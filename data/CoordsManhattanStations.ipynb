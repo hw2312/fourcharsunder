{
 "cells": [
  {
   "cell_type": "code",
   "execution_count": null,
   "metadata": {},
   "outputs": [],
   "source": []
  },
  {
   "cell_type": "code",
   "execution_count": 2,
   "metadata": {},
   "outputs": [],
   "source": [
    "import pandas as pd\n",
    "import numpy as np\n",
    "from shapely.geometry import Point, Polygon\n",
    "import geopandas as gpd"
   ]
  },
  {
   "cell_type": "code",
   "execution_count": 2,
   "metadata": {},
   "outputs": [],
   "source": [
    "# Source - https://goo.gl/8CuVQF\n",
    "stops_filepath = 'NYC_Transit_Subway_Entrance_And_Exit_Data_API.csv'\n",
    "stops = pd.read_csv(stops_filepath)"
   ]
  },
  {
   "cell_type": "code",
   "execution_count": 3,
   "metadata": {},
   "outputs": [],
   "source": [
    "# Concatenating all routes available\n",
    "stops['Routes'] = (stops.Route1.astype(str)+\\\n",
    "    stops.Route2.astype(str)+\\\n",
    "    stops.Route3.astype(str)+\\\n",
    "    stops.Route4.astype(str)+\\\n",
    "    stops.Route5.astype(str)+\\\n",
    "    stops.Route6.astype(str)+\\\n",
    "    stops.Route7.astype(str)+\\\n",
    "    stops.Route8.astype(str)+\\\n",
    "    stops.Route9.astype(str)+\\\n",
    "    stops.Route10.astype(str)+\\\n",
    "    stops.Route11.astype(str)).str.replace('nan','').str.replace('.0','').str.strip()"
   ]
  },
  {
   "cell_type": "code",
   "execution_count": 4,
   "metadata": {},
   "outputs": [],
   "source": [
    "stops = stops[['Division','Station Name',\n",
    "                           'Station Latitude','Station Longitude','Routes']]"
   ]
  },
  {
   "cell_type": "code",
   "execution_count": 5,
   "metadata": {},
   "outputs": [],
   "source": [
    "station_latlon = stops.groupby(['Division','Station Name',\n",
    "                           'Station Latitude','Station Longitude'])\\\n",
    "            .agg({'Routes':lambda x:x.iloc[0]}).reset_index()"
   ]
  },
  {
   "cell_type": "code",
   "execution_count": 6,
   "metadata": {},
   "outputs": [],
   "source": [
    "geometry = [Point(xy) for xy in zip(station_latlon['Station Longitude'],station_latlon['Station Latitude'])]\n",
    "crs = {'init': 'epsg:4326'}\n",
    "gdf = gpd.GeoDataFrame(station_latlon, crs=crs, geometry=geometry)"
   ]
  },
  {
   "cell_type": "code",
   "execution_count": 7,
   "metadata": {},
   "outputs": [],
   "source": [
    "# Source - https://goo.gl/L8pQn7\n",
    "borough_fp = 'boroughs.geojson'\n",
    "boroughs = gpd.read_file(borough_fp)"
   ]
  },
  {
   "cell_type": "code",
   "execution_count": 8,
   "metadata": {},
   "outputs": [],
   "source": [
    "manhattan = boroughs.iloc[3,4]"
   ]
  },
  {
   "cell_type": "code",
   "execution_count": 9,
   "metadata": {},
   "outputs": [],
   "source": [
    "# Boolean column for points within Manhattan\n",
    "gdf['mh_bool'] = gdf.geometry.within(manhattan)"
   ]
  },
  {
   "cell_type": "code",
   "execution_count": 10,
   "metadata": {},
   "outputs": [],
   "source": [
    "# Dedupe stations once more (there seem to be multiple per station)\n",
    "manhattan_stations = gdf[gdf['mh_bool']].groupby(['Station Name','Routes'])\\\n",
    "        .agg({'Division':lambda x: x.iloc[0],\n",
    "              'Station Latitude':lambda x: x.iloc[0],\n",
    "              'Station Longitude':lambda x: x.iloc[0]}).reset_index().rename(\n",
    "            columns={'Station Name':'station_name','Routes':'routes','Division':'division',\n",
    "                     'Station Latitude':'lat','Station Longitude':'lon'})"
   ]
  },
  {
   "cell_type": "code",
   "execution_count": 11,
   "metadata": {},
   "outputs": [],
   "source": [
    "# Export CSV\n",
    "manhattan_stations.to_csv('mh_station_coords.csv',encoding='utf-8',index=False)"
   ]
  },
  {
   "cell_type": "code",
   "execution_count": 3,
   "metadata": {},
   "outputs": [],
   "source": [
    "turnstile_fp = 'Turnstile_Usage_Data__2015.csv'\n",
    "turnstile = pd.read_csv(turnstile_fp)"
   ]
  },
  {
   "cell_type": "code",
   "execution_count": 14,
   "metadata": {},
   "outputs": [],
   "source": [
    "# Merging subway clean to turnstile data\n",
    "subway_clean_fp = 'subway_clean.csv'\n",
    "subway_clean = pd.read_csv(subway_clean_fp)\n",
    "subway_clean = subway_clean.drop(columns=['Location','Comment'])"
   ]
  },
  {
   "cell_type": "code",
   "execution_count": 17,
   "metadata": {},
   "outputs": [],
   "source": [
    "t_sc = turnstile.merge(subway_clean,how='inner',left_on=['Station','Line Name','Division'],\n",
    "                       right_on=['Station','Line Name','Division'])"
   ]
  },
  {
   "cell_type": "code",
   "execution_count": 33,
   "metadata": {},
   "outputs": [],
   "source": [
    "# Exporting clean subway coord data\n",
    "subway_clean.sort_values(['ID','Station'],inplace=True)\n",
    "\n",
    "subway_clean.groupby('ID').agg({'Station':lambda x: x.iloc[0],\n",
    "                               'Line Name':lambda x: x.iloc[0],\n",
    "                                'Division':lambda x: x.iloc[0],\n",
    "                                'Latitude':lambda x: x.iloc[0],\n",
    "                                'Longitude':lambda x: x.iloc[0]\n",
    "                               }).to_csv('subway_coords_clean.csv',encoding='utf-8')"
   ]
  }
 ],
 "metadata": {
  "kernelspec": {
   "display_name": "Python 3",
   "language": "python",
   "name": "python3"
  },
  "language_info": {
   "codemirror_mode": {
    "name": "ipython",
    "version": 3
   },
   "file_extension": ".py",
   "mimetype": "text/x-python",
   "name": "python",
   "nbconvert_exporter": "python",
   "pygments_lexer": "ipython3",
   "version": "3.6.4"
  }
 },
 "nbformat": 4,
 "nbformat_minor": 2
}
