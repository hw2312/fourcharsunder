{
 "cells": [
  {
   "cell_type": "code",
   "execution_count": null,
   "metadata": {},
   "outputs": [],
   "source": []
  },
  {
   "cell_type": "code",
   "execution_count": 15,
   "metadata": {},
   "outputs": [],
   "source": [
    "import pandas as pd\n",
    "import numpy as np"
   ]
  },
  {
   "cell_type": "code",
   "execution_count": 16,
   "metadata": {},
   "outputs": [],
   "source": [
    "coordinates_fp = 'subway_coords_clean.csv'\n",
    "coordinates = pd.read_csv(coordinates_fp)"
   ]
  },
  {
   "cell_type": "code",
   "execution_count": 3,
   "metadata": {},
   "outputs": [],
   "source": [
    "turnstile_fp = '2015_manhattan_turnstile_usage.csv'\n",
    "turnstile = pd.read_csv(turnstile_fp)"
   ]
  },
  {
   "cell_type": "code",
   "execution_count": 10,
   "metadata": {},
   "outputs": [],
   "source": [
    "# Add is_weekend column for combined weekend & holiday feature\n",
    "turnstile['is_weekend'] = turnstile.day_of_week.isin([5,6])\n",
    "turnstile['is_weekend_or_holiday'] = turnstile.is_weekend | turnstile.is_holiday"
   ]
  },
  {
   "cell_type": "code",
   "execution_count": 11,
   "metadata": {},
   "outputs": [],
   "source": [
    "# Quick sample: average volume for stations aggregated by time interval, non-holiday weekdays\n",
    "temp = turnstile.groupby(['station_id','station','lines','is_weekend_or_holiday','hour']).\\\n",
    "            agg({'entry_volume':np.mean,'exit_volume':np.mean}).reset_index()\n",
    "temp['latitude'] = temp.station_id.map(coordinates.set_index('ID').Latitude)\n",
    "temp['longitude'] = temp.station_id.map(coordinates.set_index('ID').Longitude)"
   ]
  },
  {
   "cell_type": "code",
   "execution_count": 13,
   "metadata": {},
   "outputs": [],
   "source": [
    "export_fp =  '/Users/dwoo/dsi/fourcharsunder/traffic_map_viz/sample_data/2015_turnstile_volume.csv'\n",
    "temp.to_csv(export_fp,index=False)"
   ]
  }
 ],
 "metadata": {
  "kernelspec": {
   "display_name": "Python 3",
   "language": "python",
   "name": "python3"
  },
  "language_info": {
   "codemirror_mode": {
    "name": "ipython",
    "version": 3
   },
   "file_extension": ".py",
   "mimetype": "text/x-python",
   "name": "python",
   "nbconvert_exporter": "python",
   "pygments_lexer": "ipython3",
   "version": "3.6.4"
  }
 },
 "nbformat": 4,
 "nbformat_minor": 2
}
