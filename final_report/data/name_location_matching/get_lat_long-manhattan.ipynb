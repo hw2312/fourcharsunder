{
 "cells": [
  {
   "cell_type": "code",
   "execution_count": 1,
   "metadata": {
    "collapsed": true
   },
   "outputs": [],
   "source": [
    "import pandas as pd"
   ]
  },
  {
   "cell_type": "code",
   "execution_count": 2,
   "metadata": {
    "collapsed": true
   },
   "outputs": [],
   "source": [
    "data_path = \"/Users/gimdong-gu/Desktop/EDAV_project/\""
   ]
  },
  {
   "cell_type": "markdown",
   "metadata": {},
   "source": [
    "### Station nam with location info"
   ]
  },
  {
   "cell_type": "code",
   "execution_count": 3,
   "metadata": {
    "collapsed": true
   },
   "outputs": [],
   "source": [
    "station_loc = pd.read_csv(data_path + \"mh_station_coords.csv\")"
   ]
  },
  {
   "cell_type": "code",
   "execution_count": 4,
   "metadata": {
    "collapsed": true
   },
   "outputs": [],
   "source": [
    "# Clean the data\n",
    "station_loc[\"station_name\"] = station_loc['station_name'].str.upper()\n",
    "station_loc[\"station_name\"] = station_loc['station_name'].str.replace(\"SQUARE\",\"SQ\")\n",
    "station_loc[\"station_name\"] = station_loc['station_name'].str.replace(\"CENTER\",\"CTR\")\n",
    "station_loc['station_name'] = station_loc['station_name'].str.replace(r\"(\\d+)(RD)\", r\"\\1\")\n",
    "station_loc['station_name'] = station_loc['station_name'].str.replace(r\"(\\d+)(TH)\", r\"\\1\")"
   ]
  },
  {
   "cell_type": "markdown",
   "metadata": {},
   "source": [
    "### Station Name without location info"
   ]
  },
  {
   "cell_type": "code",
   "execution_count": 5,
   "metadata": {
    "collapsed": true
   },
   "outputs": [],
   "source": [
    "station_name = pd.read_csv(data_path + \"Turnstile_2015.csv\")"
   ]
  },
  {
   "cell_type": "code",
   "execution_count": 6,
   "metadata": {
    "collapsed": true
   },
   "outputs": [],
   "source": [
    "station_name = station_name[[\"Station\", \"Line Name\", \"Division\"]]\n",
    "station_name = station_name.drop_duplicates(subset=[\"Station\", \"Line Name\", \"Division\"], keep='first')\n",
    "station_name = station_name.reset_index(drop=True)"
   ]
  },
  {
   "cell_type": "code",
   "execution_count": 7,
   "metadata": {
    "collapsed": true
   },
   "outputs": [],
   "source": [
    "# for i in range(station_name.shape[0]):\n",
    "#     print((station_name.loc[i,\"Station\"],station_name.loc[i,\"Line Name\"],station_name.loc[i,\"Division\"]))"
   ]
  },
  {
   "cell_type": "markdown",
   "metadata": {},
   "source": [
    "### Perform automatic match and save it into Dictionary"
   ]
  },
  {
   "cell_type": "code",
   "execution_count": 8,
   "metadata": {
    "collapsed": true
   },
   "outputs": [],
   "source": [
    "name_list = list(station_name[\"Station\"])"
   ]
  },
  {
   "cell_type": "code",
   "execution_count": 9,
   "metadata": {
    "collapsed": true
   },
   "outputs": [],
   "source": [
    "location_list = list(station_loc[\"station_name\"])"
   ]
  },
  {
   "cell_type": "code",
   "execution_count": 10,
   "metadata": {
    "collapsed": true
   },
   "outputs": [],
   "source": [
    "name_dict = {}\n",
    "location_dict = {}"
   ]
  },
  {
   "cell_type": "code",
   "execution_count": 11,
   "metadata": {
    "collapsed": true
   },
   "outputs": [],
   "source": [
    "for i in name_list:\n",
    "    try:\n",
    "        name_dict[i] = name_dict[i] + 1\n",
    "    except KeyError:\n",
    "        name_dict[i] = 1"
   ]
  },
  {
   "cell_type": "code",
   "execution_count": 12,
   "metadata": {
    "collapsed": true
   },
   "outputs": [],
   "source": [
    "for i in location_list:\n",
    "    try:\n",
    "        location_dict[i] = location_dict[i] + 1\n",
    "    except KeyError:\n",
    "        location_dict[i] = 1"
   ]
  },
  {
   "cell_type": "markdown",
   "metadata": {},
   "source": [
    "### Get address for stations with unique name"
   ]
  },
  {
   "cell_type": "code",
   "execution_count": 13,
   "metadata": {
    "collapsed": true
   },
   "outputs": [],
   "source": [
    "# name_dict\n",
    "# location_dict\n",
    "address_book = {}\n",
    "for i in range(len(location_list)):\n",
    "    if (location_list[i] in list(location_dict.keys())) and (location_list[i] in list(name_dict.keys())):\n",
    "        if (location_dict[location_list[i]] == 1) and (name_dict[location_list[i]] == 1):\n",
    "            address_book[location_list[i]] = (station_loc.loc[i, 'lat'], station_loc.loc[i, 'lon'])\n",
    "            del location_dict[location_list[i]]\n",
    "            del name_dict[location_list[i]]"
   ]
  },
  {
   "cell_type": "markdown",
   "metadata": {},
   "source": [
    "### Match lat-lon info with function \"address_up\" after comparison"
   ]
  },
  {
   "cell_type": "code",
   "execution_count": 14,
   "metadata": {
    "collapsed": true
   },
   "outputs": [],
   "source": [
    "def get_location(df, station_name):\n",
    "    temp = df[df[\"station_name\"] == station_name]\n",
    "    temp = temp.reset_index(drop=True)\n",
    "    return temp"
   ]
  },
  {
   "cell_type": "code",
   "execution_count": 15,
   "metadata": {},
   "outputs": [
    {
     "data": {
      "text/html": [
       "<div>\n",
       "<style>\n",
       "    .dataframe thead tr:only-child th {\n",
       "        text-align: right;\n",
       "    }\n",
       "\n",
       "    .dataframe thead th {\n",
       "        text-align: left;\n",
       "    }\n",
       "\n",
       "    .dataframe tbody tr th {\n",
       "        vertical-align: top;\n",
       "    }\n",
       "</style>\n",
       "<table border=\"1\" class=\"dataframe\">\n",
       "  <thead>\n",
       "    <tr style=\"text-align: right;\">\n",
       "      <th></th>\n",
       "      <th>station_name</th>\n",
       "      <th>routes</th>\n",
       "      <th>division</th>\n",
       "      <th>lat</th>\n",
       "      <th>lon</th>\n",
       "    </tr>\n",
       "  </thead>\n",
       "  <tbody>\n",
       "    <tr>\n",
       "      <th>0</th>\n",
       "      <td>103 ST</td>\n",
       "      <td>1</td>\n",
       "      <td>IRT</td>\n",
       "      <td>40.799446</td>\n",
       "      <td>-73.968379</td>\n",
       "    </tr>\n",
       "    <tr>\n",
       "      <th>1</th>\n",
       "      <td>103 ST</td>\n",
       "      <td>6</td>\n",
       "      <td>IRT</td>\n",
       "      <td>40.790600</td>\n",
       "      <td>-73.947478</td>\n",
       "    </tr>\n",
       "    <tr>\n",
       "      <th>2</th>\n",
       "      <td>103 ST</td>\n",
       "      <td>BC</td>\n",
       "      <td>IND</td>\n",
       "      <td>40.796092</td>\n",
       "      <td>-73.961454</td>\n",
       "    </tr>\n",
       "  </tbody>\n",
       "</table>\n",
       "</div>"
      ],
      "text/plain": [
       "  station_name routes division        lat        lon\n",
       "0       103 ST      1      IRT  40.799446 -73.968379\n",
       "1       103 ST      6      IRT  40.790600 -73.947478\n",
       "2       103 ST     BC      IND  40.796092 -73.961454"
      ]
     },
     "execution_count": 15,
     "metadata": {},
     "output_type": "execute_result"
    }
   ],
   "source": [
    "# Use predefined function \"get_location\"\n",
    "get_location(station_loc, '103 ST')"
   ]
  },
  {
   "cell_type": "code",
   "execution_count": 16,
   "metadata": {
    "collapsed": true
   },
   "outputs": [],
   "source": [
    "def address_up(name1, name2):\n",
    "    address_book[name1] = (get_location(station_loc, name2).loc[0, 'lat'], \n",
    "                           get_location(station_loc, name2).loc[0, 'lon'])\n",
    "    del name_dict[name1]\n",
    "    del location_dict[name2]"
   ]
  },
  {
   "cell_type": "code",
   "execution_count": 17,
   "metadata": {
    "collapsed": true
   },
   "outputs": [],
   "source": [
    "address_up('110 ST-CPN','110 ST-CENTRAL PARK NORTH')"
   ]
  },
  {
   "cell_type": "code",
   "execution_count": 18,
   "metadata": {
    "collapsed": true
   },
   "outputs": [],
   "source": [
    "address_up('116 ST-COLUMBIA','116 ST-COLUMBIA UNIVERSITY')"
   ]
  },
  {
   "cell_type": "code",
   "execution_count": 19,
   "metadata": {
    "collapsed": true
   },
   "outputs": [],
   "source": [
    "address_up('163 ST-AMSTERDM','163 ST - AMSTERDAM AV')"
   ]
  },
  {
   "cell_type": "code",
   "execution_count": 20,
   "metadata": {
    "collapsed": true
   },
   "outputs": [],
   "source": [
    "address_up('191 ST','191ST ST')"
   ]
  },
  {
   "cell_type": "code",
   "execution_count": 21,
   "metadata": {
    "collapsed": true
   },
   "outputs": [],
   "source": [
    "address_up('34 ST-HUDSON YD','34 ST HUDSON YARDS')"
   ]
  },
  {
   "cell_type": "code",
   "execution_count": 22,
   "metadata": {
    "collapsed": true
   },
   "outputs": [],
   "source": [
    "address_up('5 AVE-53 ST','5 AV-53 ST')"
   ]
  },
  {
   "cell_type": "code",
   "execution_count": 23,
   "metadata": {
    "collapsed": true
   },
   "outputs": [],
   "source": [
    "address_up('51 ST','51ST ST')"
   ]
  },
  {
   "cell_type": "code",
   "execution_count": 24,
   "metadata": {
    "collapsed": true
   },
   "outputs": [],
   "source": [
    "address_up('66 ST-LINCOLN','66 ST-LINCOLN CTR')"
   ]
  },
  {
   "cell_type": "code",
   "execution_count": 25,
   "metadata": {
    "collapsed": true
   },
   "outputs": [],
   "source": [
    "address_up('81 ST-MUSEUM','81ST ST - MUSEUM OF NATURAL HISTORY')"
   ]
  },
  {
   "cell_type": "code",
   "execution_count": 26,
   "metadata": {
    "collapsed": true
   },
   "outputs": [],
   "source": [
    "address_up(\"B'WAY-LAFAYETTE\",'BROADWAY-LAFAYETTE ST')"
   ]
  },
  {
   "cell_type": "code",
   "execution_count": 27,
   "metadata": {
    "collapsed": true
   },
   "outputs": [],
   "source": [
    "address_up('BROOKLYN BRIDGE','BROOKLYN BRIDGE-CITY HALL')"
   ]
  },
  {
   "cell_type": "code",
   "execution_count": 28,
   "metadata": {
    "collapsed": true
   },
   "outputs": [],
   "source": [
    "address_up('DYCKMAN-200 ST','DYCKMAN ST-200 ST')"
   ]
  },
  {
   "cell_type": "code",
   "execution_count": 29,
   "metadata": {
    "collapsed": true
   },
   "outputs": [],
   "source": [
    "address_up('GRD CNTRL-42 ST','GRAND CENTRAL-42ND ST')"
   ]
  },
  {
   "cell_type": "code",
   "execution_count": 30,
   "metadata": {
    "collapsed": true
   },
   "outputs": [],
   "source": [
    "address_up('HARLEM 148 ST','HARLEM-148 ST')"
   ]
  },
  {
   "cell_type": "code",
   "execution_count": 31,
   "metadata": {
    "collapsed": true
   },
   "outputs": [],
   "source": [
    "address_up('INWOOD-207 ST','INWOOD - 207 ST')"
   ]
  },
  {
   "cell_type": "code",
   "execution_count": 32,
   "metadata": {
    "collapsed": true
   },
   "outputs": [],
   "source": [
    "address_up('MARBLE HILL-225','MARBLE HILL-225 ST')"
   ]
  },
  {
   "cell_type": "code",
   "execution_count": 33,
   "metadata": {
    "collapsed": true
   },
   "outputs": [],
   "source": [
    "address_up('W 4 ST-WASH SQ','WEST 4 ST')"
   ]
  },
  {
   "cell_type": "code",
   "execution_count": 34,
   "metadata": {},
   "outputs": [
    {
     "data": {
      "text/plain": [
       "{'110 ST': (40.795020000000001, -73.944249999999997),\n",
       " '110 ST-CPN': (40.799075000000002, -73.951821999999979),\n",
       " '116 ST-COLUMBIA': (40.807721999999998, -73.964109999999977),\n",
       " '157 ST': (40.834040999999999, -73.944890000000001),\n",
       " '163 ST-AMSTERDM': (40.836013000000001, -73.939892),\n",
       " '175 ST': (40.847391000000002, -73.939704000000006),\n",
       " '18 ST': (40.741040000000012, -73.997870999999975),\n",
       " '190 ST': (40.859022000000003, -73.934179999999998),\n",
       " '191 ST': (40.855224999999997, -73.929411999999999),\n",
       " '207 ST': (40.864614000000003, -73.918818999999999),\n",
       " '215 ST': (40.869444000000001, -73.915278999999998),\n",
       " '3 AV': (40.732849000000002, -73.986121999999995),\n",
       " '33 ST': (40.746080999999997, -73.982076000000006),\n",
       " '34 ST-HUDSON YD': (40.755882, -74.001909999999995),\n",
       " '49 ST': (40.759900999999999, -73.984138999999999),\n",
       " '5 AVE-53 ST': (40.760167000000003, -73.975223999999997),\n",
       " '51 ST': (40.757106999999998, -73.971919999999997),\n",
       " '6 AV': (40.737335000000002, -73.996786),\n",
       " '66 ST-LINCOLN': (40.773440000000001, -73.982208999999997),\n",
       " '81 ST-MUSEUM': (40.781433, -73.972143000000003),\n",
       " 'ASTOR PLACE': (40.730054000000003, -73.991069999999993),\n",
       " \"B'WAY-LAFAYETTE\": (40.725296999999998, -73.996204000000006),\n",
       " 'BLEECKER ST': (40.725915000000001, -73.994658999999999),\n",
       " 'BOWERY': (40.720280000000002, -73.993915000000001),\n",
       " 'BOWLING GREEN': (40.704816999999998, -74.014065000000002),\n",
       " 'BROAD ST': (40.706476000000002, -74.011056000000025),\n",
       " 'BROOKLYN BRIDGE': (40.711824, -74.005056999999994),\n",
       " 'CITY HALL': (40.713282, -74.006978000000004),\n",
       " 'CORTLANDT ST': (40.710667999999998, -74.011029000000022),\n",
       " 'DELANCEY ST': (40.718611000000003, -73.988113999999996),\n",
       " 'DYCKMAN-200 ST': (40.865490999999999, -73.927270999999976),\n",
       " 'EAST BROADWAY': (40.713715000000001, -73.990172999999999),\n",
       " 'ESSEX ST': (40.718314999999997, -73.987437),\n",
       " 'FRANKLIN ST': (40.719318000000001, -74.006885999999994),\n",
       " 'GRD CNTRL-42 ST': (40.751430999999997, -73.976041000000023),\n",
       " 'HARLEM 148 ST': (40.823880000000003, -73.93647),\n",
       " 'HOUSTON ST': (40.728251, -74.005367000000007),\n",
       " 'INWOOD-207 ST': (40.868071999999998, -73.919899000000001),\n",
       " 'MARBLE HILL-225': (40.874561, -73.909831000000025),\n",
       " 'PRINCE ST': (40.724328999999997, -73.997702000000004),\n",
       " 'SOUTH FERRY': (40.702067999999997, -74.013664000000006),\n",
       " 'W 4 ST-WASH SQ': (40.732337999999999, -74.000495000000001),\n",
       " 'WHITEHALL ST': (40.703086999999996, -74.012993999999978),\n",
       " 'WORLD TRADE CTR': (40.712581999999998, -74.009781000000004)}"
      ]
     },
     "execution_count": 34,
     "metadata": {},
     "output_type": "execute_result"
    }
   ],
   "source": [
    "address_book"
   ]
  },
  {
   "cell_type": "code",
   "execution_count": 35,
   "metadata": {
    "collapsed": true
   },
   "outputs": [],
   "source": [
    "station_name['Location'] = None"
   ]
  },
  {
   "cell_type": "code",
   "execution_count": 36,
   "metadata": {
    "collapsed": true
   },
   "outputs": [],
   "source": [
    "for i in address_book.keys():\n",
    "    idx = station_name[station_name[\"Station\"]==i].index.tolist()[0]\n",
    "    station_name.loc[idx,'Location'] = address_book[i]"
   ]
  },
  {
   "cell_type": "code",
   "execution_count": 37,
   "metadata": {},
   "outputs": [
    {
     "data": {
      "text/html": [
       "<div>\n",
       "<style>\n",
       "    .dataframe thead tr:only-child th {\n",
       "        text-align: right;\n",
       "    }\n",
       "\n",
       "    .dataframe thead th {\n",
       "        text-align: left;\n",
       "    }\n",
       "\n",
       "    .dataframe tbody tr th {\n",
       "        vertical-align: top;\n",
       "    }\n",
       "</style>\n",
       "<table border=\"1\" class=\"dataframe\">\n",
       "  <thead>\n",
       "    <tr style=\"text-align: right;\">\n",
       "      <th></th>\n",
       "      <th>Station</th>\n",
       "      <th>Line Name</th>\n",
       "      <th>Division</th>\n",
       "      <th>Location</th>\n",
       "    </tr>\n",
       "  </thead>\n",
       "  <tbody>\n",
       "    <tr>\n",
       "      <th>0</th>\n",
       "      <td>CYPRESS HILLS</td>\n",
       "      <td>J</td>\n",
       "      <td>BMT</td>\n",
       "      <td>None</td>\n",
       "    </tr>\n",
       "    <tr>\n",
       "      <th>1</th>\n",
       "      <td>FLATBUSH AVE</td>\n",
       "      <td>25</td>\n",
       "      <td>IRT</td>\n",
       "      <td>None</td>\n",
       "    </tr>\n",
       "    <tr>\n",
       "      <th>2</th>\n",
       "      <td>55 ST</td>\n",
       "      <td>D</td>\n",
       "      <td>BMT</td>\n",
       "      <td>None</td>\n",
       "    </tr>\n",
       "    <tr>\n",
       "      <th>3</th>\n",
       "      <td>125 ST</td>\n",
       "      <td>ACBD</td>\n",
       "      <td>IND</td>\n",
       "      <td>None</td>\n",
       "    </tr>\n",
       "    <tr>\n",
       "      <th>4</th>\n",
       "      <td>CANAL ST</td>\n",
       "      <td>ACE</td>\n",
       "      <td>IND</td>\n",
       "      <td>None</td>\n",
       "    </tr>\n",
       "    <tr>\n",
       "      <th>5</th>\n",
       "      <td>WALL ST</td>\n",
       "      <td>23</td>\n",
       "      <td>IRT</td>\n",
       "      <td>None</td>\n",
       "    </tr>\n",
       "    <tr>\n",
       "      <th>6</th>\n",
       "      <td>BARCLAYS CENTER</td>\n",
       "      <td>BDNQR2345</td>\n",
       "      <td>IRT</td>\n",
       "      <td>None</td>\n",
       "    </tr>\n",
       "    <tr>\n",
       "      <th>7</th>\n",
       "      <td>ST LAWRENCE AVE</td>\n",
       "      <td>6</td>\n",
       "      <td>IRT</td>\n",
       "      <td>None</td>\n",
       "    </tr>\n",
       "    <tr>\n",
       "      <th>8</th>\n",
       "      <td>JUNCTION BLVD</td>\n",
       "      <td>7</td>\n",
       "      <td>IRT</td>\n",
       "      <td>None</td>\n",
       "    </tr>\n",
       "    <tr>\n",
       "      <th>9</th>\n",
       "      <td>WOODHAVEN BLVD</td>\n",
       "      <td>MR</td>\n",
       "      <td>IND</td>\n",
       "      <td>None</td>\n",
       "    </tr>\n",
       "    <tr>\n",
       "      <th>10</th>\n",
       "      <td>MORRISON AVE</td>\n",
       "      <td>6</td>\n",
       "      <td>IRT</td>\n",
       "      <td>None</td>\n",
       "    </tr>\n",
       "    <tr>\n",
       "      <th>11</th>\n",
       "      <td>VAN SICLEN AVE</td>\n",
       "      <td>C</td>\n",
       "      <td>IND</td>\n",
       "      <td>None</td>\n",
       "    </tr>\n",
       "    <tr>\n",
       "      <th>12</th>\n",
       "      <td>CHAMBERS ST</td>\n",
       "      <td>ACE23</td>\n",
       "      <td>IND</td>\n",
       "      <td>None</td>\n",
       "    </tr>\n",
       "    <tr>\n",
       "      <th>13</th>\n",
       "      <td>28 ST-BROADWAY</td>\n",
       "      <td>NR</td>\n",
       "      <td>BMT</td>\n",
       "      <td>None</td>\n",
       "    </tr>\n",
       "    <tr>\n",
       "      <th>14</th>\n",
       "      <td>KINGSBRIDGE RD</td>\n",
       "      <td>4</td>\n",
       "      <td>IRT</td>\n",
       "      <td>None</td>\n",
       "    </tr>\n",
       "    <tr>\n",
       "      <th>15</th>\n",
       "      <td>8 ST-B'WAY NYU</td>\n",
       "      <td>NR</td>\n",
       "      <td>BMT</td>\n",
       "      <td>None</td>\n",
       "    </tr>\n",
       "    <tr>\n",
       "      <th>16</th>\n",
       "      <td>42 ST-BRYANT PK</td>\n",
       "      <td>BDFM7</td>\n",
       "      <td>IND</td>\n",
       "      <td>None</td>\n",
       "    </tr>\n",
       "    <tr>\n",
       "      <th>17</th>\n",
       "      <td>81 ST-MUSEUM</td>\n",
       "      <td>BC</td>\n",
       "      <td>IND</td>\n",
       "      <td>(40.781433, -73.972143)</td>\n",
       "    </tr>\n",
       "    <tr>\n",
       "      <th>18</th>\n",
       "      <td>LACKAWANNA</td>\n",
       "      <td>1</td>\n",
       "      <td>PTH</td>\n",
       "      <td>None</td>\n",
       "    </tr>\n",
       "    <tr>\n",
       "      <th>19</th>\n",
       "      <td>JAY ST-METROTEC</td>\n",
       "      <td>R</td>\n",
       "      <td>BMT</td>\n",
       "      <td>None</td>\n",
       "    </tr>\n",
       "    <tr>\n",
       "      <th>20</th>\n",
       "      <td>23 ST-6 AVE</td>\n",
       "      <td>FM</td>\n",
       "      <td>IND</td>\n",
       "      <td>None</td>\n",
       "    </tr>\n",
       "    <tr>\n",
       "      <th>21</th>\n",
       "      <td>34 ST-PENN STA</td>\n",
       "      <td>ACE</td>\n",
       "      <td>IND</td>\n",
       "      <td>None</td>\n",
       "    </tr>\n",
       "    <tr>\n",
       "      <th>22</th>\n",
       "      <td>23 ST-5 AVE</td>\n",
       "      <td>NR</td>\n",
       "      <td>BMT</td>\n",
       "      <td>None</td>\n",
       "    </tr>\n",
       "    <tr>\n",
       "      <th>23</th>\n",
       "      <td>161 ST-YANKEE</td>\n",
       "      <td>BD4</td>\n",
       "      <td>IND</td>\n",
       "      <td>None</td>\n",
       "    </tr>\n",
       "    <tr>\n",
       "      <th>24</th>\n",
       "      <td>42 ST-TIMES SQ</td>\n",
       "      <td>1237ACENQRS</td>\n",
       "      <td>IRT</td>\n",
       "      <td>None</td>\n",
       "    </tr>\n",
       "    <tr>\n",
       "      <th>25</th>\n",
       "      <td>23 ST</td>\n",
       "      <td>6</td>\n",
       "      <td>IRT</td>\n",
       "      <td>None</td>\n",
       "    </tr>\n",
       "    <tr>\n",
       "      <th>26</th>\n",
       "      <td>EXCHANGE PLACE</td>\n",
       "      <td>1</td>\n",
       "      <td>PTH</td>\n",
       "      <td>None</td>\n",
       "    </tr>\n",
       "    <tr>\n",
       "      <th>27</th>\n",
       "      <td>MARCY AVE</td>\n",
       "      <td>JMZ</td>\n",
       "      <td>BMT</td>\n",
       "      <td>None</td>\n",
       "    </tr>\n",
       "    <tr>\n",
       "      <th>28</th>\n",
       "      <td>NEWARK BM BW</td>\n",
       "      <td>1</td>\n",
       "      <td>PTH</td>\n",
       "      <td>None</td>\n",
       "    </tr>\n",
       "    <tr>\n",
       "      <th>29</th>\n",
       "      <td>215 ST</td>\n",
       "      <td>1</td>\n",
       "      <td>IRT</td>\n",
       "      <td>(40.869444, -73.915279)</td>\n",
       "    </tr>\n",
       "    <tr>\n",
       "      <th>...</th>\n",
       "      <td>...</td>\n",
       "      <td>...</td>\n",
       "      <td>...</td>\n",
       "      <td>...</td>\n",
       "    </tr>\n",
       "    <tr>\n",
       "      <th>677</th>\n",
       "      <td>36 AV</td>\n",
       "      <td>NQ</td>\n",
       "      <td>BMT</td>\n",
       "      <td>None</td>\n",
       "    </tr>\n",
       "    <tr>\n",
       "      <th>678</th>\n",
       "      <td>BROADWAY</td>\n",
       "      <td>NQ</td>\n",
       "      <td>BMT</td>\n",
       "      <td>None</td>\n",
       "    </tr>\n",
       "    <tr>\n",
       "      <th>679</th>\n",
       "      <td>30 AV</td>\n",
       "      <td>NQ</td>\n",
       "      <td>BMT</td>\n",
       "      <td>None</td>\n",
       "    </tr>\n",
       "    <tr>\n",
       "      <th>680</th>\n",
       "      <td>ASTORIA BLVD</td>\n",
       "      <td>NQ</td>\n",
       "      <td>BMT</td>\n",
       "      <td>None</td>\n",
       "    </tr>\n",
       "    <tr>\n",
       "      <th>681</th>\n",
       "      <td>ASTORIA DITMARS</td>\n",
       "      <td>NQ</td>\n",
       "      <td>BMT</td>\n",
       "      <td>None</td>\n",
       "    </tr>\n",
       "    <tr>\n",
       "      <th>682</th>\n",
       "      <td>33 ST-RAWSON ST</td>\n",
       "      <td>7</td>\n",
       "      <td>IRT</td>\n",
       "      <td>None</td>\n",
       "    </tr>\n",
       "    <tr>\n",
       "      <th>683</th>\n",
       "      <td>40 ST LOWERY ST</td>\n",
       "      <td>7</td>\n",
       "      <td>IRT</td>\n",
       "      <td>None</td>\n",
       "    </tr>\n",
       "    <tr>\n",
       "      <th>684</th>\n",
       "      <td>46 ST BLISS ST</td>\n",
       "      <td>7</td>\n",
       "      <td>IRT</td>\n",
       "      <td>None</td>\n",
       "    </tr>\n",
       "    <tr>\n",
       "      <th>685</th>\n",
       "      <td>52 ST</td>\n",
       "      <td>7</td>\n",
       "      <td>IRT</td>\n",
       "      <td>None</td>\n",
       "    </tr>\n",
       "    <tr>\n",
       "      <th>686</th>\n",
       "      <td>61 ST WOODSIDE</td>\n",
       "      <td>7</td>\n",
       "      <td>IRT</td>\n",
       "      <td>None</td>\n",
       "    </tr>\n",
       "    <tr>\n",
       "      <th>687</th>\n",
       "      <td>69 ST</td>\n",
       "      <td>7</td>\n",
       "      <td>IRT</td>\n",
       "      <td>None</td>\n",
       "    </tr>\n",
       "    <tr>\n",
       "      <th>688</th>\n",
       "      <td>FLUSHING-MAIN</td>\n",
       "      <td>7</td>\n",
       "      <td>IRT</td>\n",
       "      <td>None</td>\n",
       "    </tr>\n",
       "    <tr>\n",
       "      <th>689</th>\n",
       "      <td>CHURCH AV</td>\n",
       "      <td>25</td>\n",
       "      <td>IRT</td>\n",
       "      <td>None</td>\n",
       "    </tr>\n",
       "    <tr>\n",
       "      <th>690</th>\n",
       "      <td>BOROUGH HALL</td>\n",
       "      <td>2345R</td>\n",
       "      <td>IRT</td>\n",
       "      <td>None</td>\n",
       "    </tr>\n",
       "    <tr>\n",
       "      <th>691</th>\n",
       "      <td>ATL AV-BARCLAY</td>\n",
       "      <td>2345BDNQR</td>\n",
       "      <td>IRT</td>\n",
       "      <td>None</td>\n",
       "    </tr>\n",
       "    <tr>\n",
       "      <th>692</th>\n",
       "      <td>ATL AV-BARCLAY</td>\n",
       "      <td>BDNQR2345</td>\n",
       "      <td>IRT</td>\n",
       "      <td>None</td>\n",
       "    </tr>\n",
       "    <tr>\n",
       "      <th>693</th>\n",
       "      <td>EASTN PKWY-MUSM</td>\n",
       "      <td>23</td>\n",
       "      <td>IRT</td>\n",
       "      <td>None</td>\n",
       "    </tr>\n",
       "    <tr>\n",
       "      <th>694</th>\n",
       "      <td>FRANKLIN AV</td>\n",
       "      <td>2345S</td>\n",
       "      <td>IRT</td>\n",
       "      <td>None</td>\n",
       "    </tr>\n",
       "    <tr>\n",
       "      <th>695</th>\n",
       "      <td>NOSTRAND AV</td>\n",
       "      <td>3</td>\n",
       "      <td>IRT</td>\n",
       "      <td>None</td>\n",
       "    </tr>\n",
       "    <tr>\n",
       "      <th>696</th>\n",
       "      <td>KINGSTON AV</td>\n",
       "      <td>3</td>\n",
       "      <td>IRT</td>\n",
       "      <td>None</td>\n",
       "    </tr>\n",
       "    <tr>\n",
       "      <th>697</th>\n",
       "      <td>SUTTER AV-RUTLD</td>\n",
       "      <td>3</td>\n",
       "      <td>IRT</td>\n",
       "      <td>None</td>\n",
       "    </tr>\n",
       "    <tr>\n",
       "      <th>698</th>\n",
       "      <td>SARATOGA AV</td>\n",
       "      <td>3</td>\n",
       "      <td>IRT</td>\n",
       "      <td>None</td>\n",
       "    </tr>\n",
       "    <tr>\n",
       "      <th>699</th>\n",
       "      <td>NEW LOTS AV</td>\n",
       "      <td>3</td>\n",
       "      <td>IRT</td>\n",
       "      <td>None</td>\n",
       "    </tr>\n",
       "    <tr>\n",
       "      <th>700</th>\n",
       "      <td>BEVERLY RD</td>\n",
       "      <td>25</td>\n",
       "      <td>IRT</td>\n",
       "      <td>None</td>\n",
       "    </tr>\n",
       "    <tr>\n",
       "      <th>701</th>\n",
       "      <td>NEWKIRK AV</td>\n",
       "      <td>25</td>\n",
       "      <td>IRT</td>\n",
       "      <td>None</td>\n",
       "    </tr>\n",
       "    <tr>\n",
       "      <th>702</th>\n",
       "      <td>FLATBUSH AV-B.C</td>\n",
       "      <td>25</td>\n",
       "      <td>IRT</td>\n",
       "      <td>None</td>\n",
       "    </tr>\n",
       "    <tr>\n",
       "      <th>703</th>\n",
       "      <td>PELHAM PKWY</td>\n",
       "      <td>5</td>\n",
       "      <td>IRT</td>\n",
       "      <td>None</td>\n",
       "    </tr>\n",
       "    <tr>\n",
       "      <th>704</th>\n",
       "      <td>GUN HILL RD</td>\n",
       "      <td>5</td>\n",
       "      <td>IRT</td>\n",
       "      <td>None</td>\n",
       "    </tr>\n",
       "    <tr>\n",
       "      <th>705</th>\n",
       "      <td>BAYCHESTER AV</td>\n",
       "      <td>5</td>\n",
       "      <td>IRT</td>\n",
       "      <td>None</td>\n",
       "    </tr>\n",
       "    <tr>\n",
       "      <th>706</th>\n",
       "      <td>EASTCHSTER/DYRE</td>\n",
       "      <td>5</td>\n",
       "      <td>IRT</td>\n",
       "      <td>None</td>\n",
       "    </tr>\n",
       "  </tbody>\n",
       "</table>\n",
       "<p>707 rows × 4 columns</p>\n",
       "</div>"
      ],
      "text/plain": [
       "             Station    Line Name Division                 Location\n",
       "0      CYPRESS HILLS            J      BMT                     None\n",
       "1       FLATBUSH AVE           25      IRT                     None\n",
       "2              55 ST            D      BMT                     None\n",
       "3             125 ST         ACBD      IND                     None\n",
       "4           CANAL ST          ACE      IND                     None\n",
       "5            WALL ST           23      IRT                     None\n",
       "6    BARCLAYS CENTER    BDNQR2345      IRT                     None\n",
       "7    ST LAWRENCE AVE            6      IRT                     None\n",
       "8      JUNCTION BLVD            7      IRT                     None\n",
       "9     WOODHAVEN BLVD           MR      IND                     None\n",
       "10      MORRISON AVE            6      IRT                     None\n",
       "11    VAN SICLEN AVE            C      IND                     None\n",
       "12       CHAMBERS ST        ACE23      IND                     None\n",
       "13    28 ST-BROADWAY           NR      BMT                     None\n",
       "14    KINGSBRIDGE RD            4      IRT                     None\n",
       "15    8 ST-B'WAY NYU           NR      BMT                     None\n",
       "16   42 ST-BRYANT PK        BDFM7      IND                     None\n",
       "17      81 ST-MUSEUM           BC      IND  (40.781433, -73.972143)\n",
       "18        LACKAWANNA            1      PTH                     None\n",
       "19   JAY ST-METROTEC            R      BMT                     None\n",
       "20       23 ST-6 AVE           FM      IND                     None\n",
       "21    34 ST-PENN STA          ACE      IND                     None\n",
       "22       23 ST-5 AVE           NR      BMT                     None\n",
       "23     161 ST-YANKEE          BD4      IND                     None\n",
       "24    42 ST-TIMES SQ  1237ACENQRS      IRT                     None\n",
       "25             23 ST            6      IRT                     None\n",
       "26    EXCHANGE PLACE            1      PTH                     None\n",
       "27         MARCY AVE          JMZ      BMT                     None\n",
       "28      NEWARK BM BW            1      PTH                     None\n",
       "29            215 ST            1      IRT  (40.869444, -73.915279)\n",
       "..               ...          ...      ...                      ...\n",
       "677            36 AV           NQ      BMT                     None\n",
       "678         BROADWAY           NQ      BMT                     None\n",
       "679            30 AV           NQ      BMT                     None\n",
       "680     ASTORIA BLVD           NQ      BMT                     None\n",
       "681  ASTORIA DITMARS           NQ      BMT                     None\n",
       "682  33 ST-RAWSON ST            7      IRT                     None\n",
       "683  40 ST LOWERY ST            7      IRT                     None\n",
       "684   46 ST BLISS ST            7      IRT                     None\n",
       "685            52 ST            7      IRT                     None\n",
       "686   61 ST WOODSIDE            7      IRT                     None\n",
       "687            69 ST            7      IRT                     None\n",
       "688    FLUSHING-MAIN            7      IRT                     None\n",
       "689        CHURCH AV           25      IRT                     None\n",
       "690     BOROUGH HALL        2345R      IRT                     None\n",
       "691   ATL AV-BARCLAY    2345BDNQR      IRT                     None\n",
       "692   ATL AV-BARCLAY    BDNQR2345      IRT                     None\n",
       "693  EASTN PKWY-MUSM           23      IRT                     None\n",
       "694      FRANKLIN AV        2345S      IRT                     None\n",
       "695      NOSTRAND AV            3      IRT                     None\n",
       "696      KINGSTON AV            3      IRT                     None\n",
       "697  SUTTER AV-RUTLD            3      IRT                     None\n",
       "698      SARATOGA AV            3      IRT                     None\n",
       "699      NEW LOTS AV            3      IRT                     None\n",
       "700       BEVERLY RD           25      IRT                     None\n",
       "701       NEWKIRK AV           25      IRT                     None\n",
       "702  FLATBUSH AV-B.C           25      IRT                     None\n",
       "703      PELHAM PKWY            5      IRT                     None\n",
       "704      GUN HILL RD            5      IRT                     None\n",
       "705    BAYCHESTER AV            5      IRT                     None\n",
       "706  EASTCHSTER/DYRE            5      IRT                     None\n",
       "\n",
       "[707 rows x 4 columns]"
      ]
     },
     "execution_count": 37,
     "metadata": {},
     "output_type": "execute_result"
    }
   ],
   "source": [
    "station_name"
   ]
  },
  {
   "cell_type": "markdown",
   "metadata": {},
   "source": [
    "### Start get the lists of stations need to be dropped or kept"
   ]
  },
  {
   "cell_type": "code",
   "execution_count": 38,
   "metadata": {
    "collapsed": true
   },
   "outputs": [],
   "source": [
    "manual_station = {}"
   ]
  },
  {
   "cell_type": "code",
   "execution_count": 39,
   "metadata": {
    "collapsed": true
   },
   "outputs": [],
   "source": [
    "def save_station(name):\n",
    "    manual_station[name] = name_dict[name]\n",
    "    del name_dict[name]"
   ]
  },
  {
   "cell_type": "code",
   "execution_count": 40,
   "metadata": {
    "collapsed": true
   },
   "outputs": [],
   "source": [
    "save_station('103 ST')"
   ]
  },
  {
   "cell_type": "code",
   "execution_count": 41,
   "metadata": {
    "collapsed": true
   },
   "outputs": [],
   "source": [
    "save_station('116 ST')"
   ]
  },
  {
   "cell_type": "code",
   "execution_count": 42,
   "metadata": {
    "collapsed": true
   },
   "outputs": [],
   "source": [
    "save_station('125 ST')"
   ]
  },
  {
   "cell_type": "code",
   "execution_count": 43,
   "metadata": {
    "collapsed": true
   },
   "outputs": [],
   "source": [
    "save_station('135 ST')"
   ]
  },
  {
   "cell_type": "code",
   "execution_count": 44,
   "metadata": {
    "collapsed": true
   },
   "outputs": [],
   "source": [
    "save_station('137 ST CITY COL')"
   ]
  },
  {
   "cell_type": "code",
   "execution_count": 45,
   "metadata": {
    "collapsed": true
   },
   "outputs": [],
   "source": [
    "save_station('137 ST-CITY COL')"
   ]
  },
  {
   "cell_type": "code",
   "execution_count": 46,
   "metadata": {
    "collapsed": true
   },
   "outputs": [],
   "source": [
    "save_station('14 ST')"
   ]
  },
  {
   "cell_type": "code",
   "execution_count": 47,
   "metadata": {
    "collapsed": true
   },
   "outputs": [],
   "source": [
    "save_station('14 ST-6 AVE')"
   ]
  },
  {
   "cell_type": "code",
   "execution_count": 48,
   "metadata": {
    "collapsed": true
   },
   "outputs": [],
   "source": [
    "save_station('14 ST-UNION SQ')"
   ]
  },
  {
   "cell_type": "code",
   "execution_count": 49,
   "metadata": {
    "collapsed": true
   },
   "outputs": [],
   "source": [
    "save_station('145 ST')"
   ]
  },
  {
   "cell_type": "code",
   "execution_count": 50,
   "metadata": {
    "collapsed": true
   },
   "outputs": [],
   "source": [
    "save_station('155 ST')"
   ]
  },
  {
   "cell_type": "code",
   "execution_count": 51,
   "metadata": {
    "collapsed": true
   },
   "outputs": [],
   "source": [
    "save_station('168 ST')"
   ]
  },
  {
   "cell_type": "code",
   "execution_count": 52,
   "metadata": {
    "collapsed": true
   },
   "outputs": [],
   "source": [
    "save_station('168 ST-BROADWAY')"
   ]
  },
  {
   "cell_type": "code",
   "execution_count": 53,
   "metadata": {
    "collapsed": true
   },
   "outputs": [],
   "source": [
    "save_station('181 ST')"
   ]
  },
  {
   "cell_type": "code",
   "execution_count": 54,
   "metadata": {
    "collapsed": true
   },
   "outputs": [],
   "source": [
    "save_station('1 AV')"
   ]
  },
  {
   "cell_type": "code",
   "execution_count": 55,
   "metadata": {
    "collapsed": true
   },
   "outputs": [],
   "source": [
    "save_station('1 AVE')"
   ]
  },
  {
   "cell_type": "code",
   "execution_count": 56,
   "metadata": {
    "collapsed": true
   },
   "outputs": [],
   "source": [
    "save_station('23 ST')"
   ]
  },
  {
   "cell_type": "code",
   "execution_count": 57,
   "metadata": {
    "collapsed": true
   },
   "outputs": [],
   "source": [
    "save_station('28 ST')"
   ]
  },
  {
   "cell_type": "code",
   "execution_count": 58,
   "metadata": {
    "collapsed": true
   },
   "outputs": [],
   "source": [
    "save_station('28 ST-BROADWAY')"
   ]
  },
  {
   "cell_type": "code",
   "execution_count": 59,
   "metadata": {
    "collapsed": true
   },
   "outputs": [],
   "source": [
    "save_station('2 AV')"
   ]
  },
  {
   "cell_type": "code",
   "execution_count": 60,
   "metadata": {
    "collapsed": true
   },
   "outputs": [],
   "source": [
    "save_station('2 AVE')"
   ]
  },
  {
   "cell_type": "code",
   "execution_count": 61,
   "metadata": {
    "collapsed": true
   },
   "outputs": [],
   "source": [
    "save_station('34 ST-HERALD SQ')"
   ]
  },
  {
   "cell_type": "code",
   "execution_count": 62,
   "metadata": {
    "collapsed": true
   },
   "outputs": [],
   "source": [
    "save_station('34 ST-PENN STA')"
   ]
  },
  {
   "cell_type": "code",
   "execution_count": 63,
   "metadata": {
    "collapsed": true
   },
   "outputs": [],
   "source": [
    "save_station('42 ST-BRYANT PK')"
   ]
  },
  {
   "cell_type": "code",
   "execution_count": 64,
   "metadata": {
    "collapsed": true
   },
   "outputs": [],
   "source": [
    "save_station('42 ST-GRD CNTRL')"
   ]
  },
  {
   "cell_type": "code",
   "execution_count": 65,
   "metadata": {
    "collapsed": true
   },
   "outputs": [],
   "source": [
    "save_station('42 ST-PA BUS TE')"
   ]
  },
  {
   "cell_type": "code",
   "execution_count": 66,
   "metadata": {
    "collapsed": true
   },
   "outputs": [],
   "source": [
    "save_station('42 ST-PORT AUTH')"
   ]
  },
  {
   "cell_type": "code",
   "execution_count": 67,
   "metadata": {
    "collapsed": true
   },
   "outputs": [],
   "source": [
    "save_station('42 ST-TIMES SQ')"
   ]
  },
  {
   "cell_type": "code",
   "execution_count": 68,
   "metadata": {
    "collapsed": true
   },
   "outputs": [],
   "source": [
    "save_station('47-50 ST-ROCK')"
   ]
  },
  {
   "cell_type": "code",
   "execution_count": 69,
   "metadata": {
    "collapsed": true
   },
   "outputs": [],
   "source": [
    "save_station('47-50 STS ROCK')"
   ]
  },
  {
   "cell_type": "code",
   "execution_count": 70,
   "metadata": {
    "collapsed": true
   },
   "outputs": [],
   "source": [
    "save_station('5 AV/53 ST')"
   ]
  },
  {
   "cell_type": "code",
   "execution_count": 71,
   "metadata": {
    "collapsed": true
   },
   "outputs": [],
   "source": [
    "save_station('5 AV/59 ST')"
   ]
  },
  {
   "cell_type": "code",
   "execution_count": 72,
   "metadata": {
    "collapsed": true
   },
   "outputs": [],
   "source": [
    "save_station('5 AVE-59 ST')"
   ]
  },
  {
   "cell_type": "code",
   "execution_count": 73,
   "metadata": {
    "collapsed": true
   },
   "outputs": [],
   "source": [
    "save_station('5 AVE-BRYANT PK')"
   ]
  },
  {
   "cell_type": "code",
   "execution_count": 74,
   "metadata": {
    "collapsed": true
   },
   "outputs": [],
   "source": [
    "save_station('5 AVE')"
   ]
  },
  {
   "cell_type": "code",
   "execution_count": 75,
   "metadata": {
    "collapsed": true
   },
   "outputs": [],
   "source": [
    "save_station('50 ST')"
   ]
  },
  {
   "cell_type": "code",
   "execution_count": 76,
   "metadata": {
    "collapsed": true
   },
   "outputs": [],
   "source": [
    "save_station('57 ST')"
   ]
  },
  {
   "cell_type": "code",
   "execution_count": 77,
   "metadata": {
    "collapsed": true
   },
   "outputs": [],
   "source": [
    "save_station('57 ST-7 AV')"
   ]
  },
  {
   "cell_type": "code",
   "execution_count": 78,
   "metadata": {
    "collapsed": true
   },
   "outputs": [],
   "source": [
    "save_station('57 ST-7 AVE')"
   ]
  },
  {
   "cell_type": "code",
   "execution_count": 79,
   "metadata": {
    "collapsed": true
   },
   "outputs": [],
   "source": [
    "save_station('59 ST')"
   ]
  },
  {
   "cell_type": "code",
   "execution_count": 80,
   "metadata": {
    "collapsed": true
   },
   "outputs": [],
   "source": [
    "save_station('59 ST COLUMBUS')"
   ]
  },
  {
   "cell_type": "code",
   "execution_count": 81,
   "metadata": {
    "collapsed": true
   },
   "outputs": [],
   "source": [
    "save_station('59 ST-COLUMBUS')"
   ]
  },
  {
   "cell_type": "code",
   "execution_count": 82,
   "metadata": {
    "collapsed": true
   },
   "outputs": [],
   "source": [
    "save_station('68ST-HUNTER CO')"
   ]
  },
  {
   "cell_type": "code",
   "execution_count": 83,
   "metadata": {
    "collapsed": true
   },
   "outputs": [],
   "source": [
    "save_station('68ST-HUNTER COL')"
   ]
  },
  {
   "cell_type": "code",
   "execution_count": 84,
   "metadata": {
    "collapsed": true
   },
   "outputs": [],
   "source": [
    "save_station('7 AVE')"
   ]
  },
  {
   "cell_type": "code",
   "execution_count": 85,
   "metadata": {
    "collapsed": true
   },
   "outputs": [],
   "source": [
    "save_station('7 AVE-53 ST')"
   ]
  },
  {
   "cell_type": "code",
   "execution_count": 86,
   "metadata": {
    "collapsed": true
   },
   "outputs": [],
   "source": [
    "save_station('7 AV-PARK SLOPE')"
   ]
  },
  {
   "cell_type": "code",
   "execution_count": 87,
   "metadata": {
    "collapsed": true
   },
   "outputs": [],
   "source": [
    "save_station('7 AV')"
   ]
  },
  {
   "cell_type": "code",
   "execution_count": 88,
   "metadata": {
    "collapsed": true
   },
   "outputs": [],
   "source": [
    "save_station('72 ST')"
   ]
  },
  {
   "cell_type": "code",
   "execution_count": 89,
   "metadata": {
    "collapsed": true
   },
   "outputs": [],
   "source": [
    "save_station('77 ST')"
   ]
  },
  {
   "cell_type": "code",
   "execution_count": 90,
   "metadata": {
    "collapsed": true
   },
   "outputs": [],
   "source": [
    "save_station('79 ST')"
   ]
  },
  {
   "cell_type": "code",
   "execution_count": 91,
   "metadata": {
    "collapsed": true
   },
   "outputs": [],
   "source": [
    "save_station('8 AV')"
   ]
  },
  {
   "cell_type": "code",
   "execution_count": 92,
   "metadata": {
    "collapsed": true
   },
   "outputs": [],
   "source": [
    "save_station('8 AVE')"
   ]
  },
  {
   "cell_type": "code",
   "execution_count": 93,
   "metadata": {
    "collapsed": true
   },
   "outputs": [],
   "source": [
    "save_station(\"8 ST-B'WAY NYU\")"
   ]
  },
  {
   "cell_type": "code",
   "execution_count": 94,
   "metadata": {
    "collapsed": true
   },
   "outputs": [],
   "source": [
    "save_station('8 ST-NYU')"
   ]
  },
  {
   "cell_type": "code",
   "execution_count": 95,
   "metadata": {
    "collapsed": true
   },
   "outputs": [],
   "source": [
    "save_station('86 ST')"
   ]
  },
  {
   "cell_type": "code",
   "execution_count": 96,
   "metadata": {
    "collapsed": true
   },
   "outputs": [],
   "source": [
    "save_station('96 ST')"
   ]
  },
  {
   "cell_type": "code",
   "execution_count": 97,
   "metadata": {
    "collapsed": true
   },
   "outputs": [],
   "source": [
    "save_station('CANAL ST')"
   ]
  },
  {
   "cell_type": "code",
   "execution_count": 98,
   "metadata": {
    "collapsed": true
   },
   "outputs": [],
   "source": [
    "save_station('CATHEDRL-110 ST')"
   ]
  },
  {
   "cell_type": "code",
   "execution_count": 99,
   "metadata": {
    "collapsed": true
   },
   "outputs": [],
   "source": [
    "save_station('CATHEDRAL PKWY')"
   ]
  },
  {
   "cell_type": "code",
   "execution_count": 100,
   "metadata": {
    "collapsed": true
   },
   "outputs": [],
   "source": [
    "save_station('CHAMBERS ST')"
   ]
  },
  {
   "cell_type": "code",
   "execution_count": 101,
   "metadata": {
    "collapsed": true
   },
   "outputs": [],
   "source": [
    "save_station('CHRISTOPHER ST')"
   ]
  },
  {
   "cell_type": "code",
   "execution_count": 102,
   "metadata": {
    "collapsed": true
   },
   "outputs": [],
   "source": [
    "save_station('DYCKMAN ST')"
   ]
  },
  {
   "cell_type": "code",
   "execution_count": 103,
   "metadata": {
    "collapsed": true
   },
   "outputs": [],
   "source": [
    "save_station('FULTON ST')"
   ]
  },
  {
   "cell_type": "code",
   "execution_count": 104,
   "metadata": {
    "collapsed": true
   },
   "outputs": [],
   "source": [
    "save_station('GRAND ST')"
   ]
  },
  {
   "cell_type": "code",
   "execution_count": 105,
   "metadata": {
    "collapsed": true
   },
   "outputs": [],
   "source": [
    "save_station('LEXINGTON AV/53')"
   ]
  },
  {
   "cell_type": "code",
   "execution_count": 106,
   "metadata": {
    "collapsed": true
   },
   "outputs": [],
   "source": [
    "save_station('LEXINGTON AV/63')"
   ]
  },
  {
   "cell_type": "code",
   "execution_count": 107,
   "metadata": {
    "collapsed": true
   },
   "outputs": [],
   "source": [
    "save_station('LEXINGTON AVE')"
   ]
  },
  {
   "cell_type": "code",
   "execution_count": 108,
   "metadata": {
    "collapsed": true
   },
   "outputs": [],
   "source": [
    "save_station('LEXINGTON-53 ST')"
   ]
  },
  {
   "cell_type": "code",
   "execution_count": 109,
   "metadata": {
    "collapsed": true
   },
   "outputs": [],
   "source": [
    "save_station('PARK PLACE')"
   ]
  },
  {
   "cell_type": "code",
   "execution_count": 110,
   "metadata": {
    "collapsed": true
   },
   "outputs": [],
   "source": [
    "save_station('RECTOR ST')"
   ]
  },
  {
   "cell_type": "code",
   "execution_count": 111,
   "metadata": {
    "collapsed": true
   },
   "outputs": [],
   "source": [
    "save_station('ROOSEVELT IS')"
   ]
  },
  {
   "cell_type": "code",
   "execution_count": 112,
   "metadata": {
    "collapsed": true
   },
   "outputs": [],
   "source": [
    "save_station('ROOSEVELT ISLND')"
   ]
  },
  {
   "cell_type": "code",
   "execution_count": 113,
   "metadata": {
    "collapsed": true
   },
   "outputs": [],
   "source": [
    "save_station('SPRING ST')"
   ]
  },
  {
   "cell_type": "code",
   "execution_count": 114,
   "metadata": {
    "collapsed": true
   },
   "outputs": [],
   "source": [
    "save_station('TIMES SQ-42 ST')"
   ]
  },
  {
   "cell_type": "code",
   "execution_count": 115,
   "metadata": {
    "collapsed": true
   },
   "outputs": [],
   "source": [
    "save_station('WALL ST')"
   ]
  },
  {
   "cell_type": "code",
   "execution_count": 116,
   "metadata": {
    "collapsed": true
   },
   "outputs": [],
   "source": [
    "# list of stations not in Manhattan\n",
    "drop_list = list(name_dict.keys())"
   ]
  },
  {
   "cell_type": "markdown",
   "metadata": {},
   "source": [
    "### Drop rows with stations that are not in Manhattan"
   ]
  },
  {
   "cell_type": "code",
   "execution_count": 117,
   "metadata": {
    "collapsed": true
   },
   "outputs": [],
   "source": [
    "station_name = station_name.loc[~station_name[\"Station\"].isin(drop_list)]\n",
    "station_name = station_name.reset_index(drop=True)"
   ]
  },
  {
   "cell_type": "code",
   "execution_count": 118,
   "metadata": {},
   "outputs": [
    {
     "data": {
      "text/html": [
       "<div>\n",
       "<style>\n",
       "    .dataframe thead tr:only-child th {\n",
       "        text-align: right;\n",
       "    }\n",
       "\n",
       "    .dataframe thead th {\n",
       "        text-align: left;\n",
       "    }\n",
       "\n",
       "    .dataframe tbody tr th {\n",
       "        vertical-align: top;\n",
       "    }\n",
       "</style>\n",
       "<table border=\"1\" class=\"dataframe\">\n",
       "  <thead>\n",
       "    <tr style=\"text-align: right;\">\n",
       "      <th></th>\n",
       "      <th>Station</th>\n",
       "      <th>Line Name</th>\n",
       "      <th>Division</th>\n",
       "      <th>Location</th>\n",
       "    </tr>\n",
       "  </thead>\n",
       "  <tbody>\n",
       "    <tr>\n",
       "      <th>0</th>\n",
       "      <td>125 ST</td>\n",
       "      <td>ACBD</td>\n",
       "      <td>IND</td>\n",
       "      <td>None</td>\n",
       "    </tr>\n",
       "    <tr>\n",
       "      <th>1</th>\n",
       "      <td>CANAL ST</td>\n",
       "      <td>ACE</td>\n",
       "      <td>IND</td>\n",
       "      <td>None</td>\n",
       "    </tr>\n",
       "    <tr>\n",
       "      <th>2</th>\n",
       "      <td>WALL ST</td>\n",
       "      <td>23</td>\n",
       "      <td>IRT</td>\n",
       "      <td>None</td>\n",
       "    </tr>\n",
       "    <tr>\n",
       "      <th>3</th>\n",
       "      <td>CHAMBERS ST</td>\n",
       "      <td>ACE23</td>\n",
       "      <td>IND</td>\n",
       "      <td>None</td>\n",
       "    </tr>\n",
       "    <tr>\n",
       "      <th>4</th>\n",
       "      <td>28 ST-BROADWAY</td>\n",
       "      <td>NR</td>\n",
       "      <td>BMT</td>\n",
       "      <td>None</td>\n",
       "    </tr>\n",
       "    <tr>\n",
       "      <th>5</th>\n",
       "      <td>8 ST-B'WAY NYU</td>\n",
       "      <td>NR</td>\n",
       "      <td>BMT</td>\n",
       "      <td>None</td>\n",
       "    </tr>\n",
       "    <tr>\n",
       "      <th>6</th>\n",
       "      <td>42 ST-BRYANT PK</td>\n",
       "      <td>BDFM7</td>\n",
       "      <td>IND</td>\n",
       "      <td>None</td>\n",
       "    </tr>\n",
       "    <tr>\n",
       "      <th>7</th>\n",
       "      <td>81 ST-MUSEUM</td>\n",
       "      <td>BC</td>\n",
       "      <td>IND</td>\n",
       "      <td>(40.781433, -73.972143)</td>\n",
       "    </tr>\n",
       "    <tr>\n",
       "      <th>8</th>\n",
       "      <td>34 ST-PENN STA</td>\n",
       "      <td>ACE</td>\n",
       "      <td>IND</td>\n",
       "      <td>None</td>\n",
       "    </tr>\n",
       "    <tr>\n",
       "      <th>9</th>\n",
       "      <td>42 ST-TIMES SQ</td>\n",
       "      <td>1237ACENQRS</td>\n",
       "      <td>IRT</td>\n",
       "      <td>None</td>\n",
       "    </tr>\n",
       "    <tr>\n",
       "      <th>10</th>\n",
       "      <td>23 ST</td>\n",
       "      <td>6</td>\n",
       "      <td>IRT</td>\n",
       "      <td>None</td>\n",
       "    </tr>\n",
       "    <tr>\n",
       "      <th>11</th>\n",
       "      <td>215 ST</td>\n",
       "      <td>1</td>\n",
       "      <td>IRT</td>\n",
       "      <td>(40.869444, -73.915279)</td>\n",
       "    </tr>\n",
       "    <tr>\n",
       "      <th>12</th>\n",
       "      <td>28 ST</td>\n",
       "      <td>1</td>\n",
       "      <td>IRT</td>\n",
       "      <td>None</td>\n",
       "    </tr>\n",
       "    <tr>\n",
       "      <th>13</th>\n",
       "      <td>HOUSTON ST</td>\n",
       "      <td>1</td>\n",
       "      <td>IRT</td>\n",
       "      <td>(40.728251, -74.005367)</td>\n",
       "    </tr>\n",
       "    <tr>\n",
       "      <th>14</th>\n",
       "      <td>SPRING ST</td>\n",
       "      <td>CE</td>\n",
       "      <td>IND</td>\n",
       "      <td>None</td>\n",
       "    </tr>\n",
       "    <tr>\n",
       "      <th>15</th>\n",
       "      <td>57 ST</td>\n",
       "      <td>F</td>\n",
       "      <td>IND</td>\n",
       "      <td>None</td>\n",
       "    </tr>\n",
       "    <tr>\n",
       "      <th>16</th>\n",
       "      <td>FULTON ST</td>\n",
       "      <td>ACJZ2345</td>\n",
       "      <td>BMT</td>\n",
       "      <td>None</td>\n",
       "    </tr>\n",
       "    <tr>\n",
       "      <th>17</th>\n",
       "      <td>59 ST-COLUMBUS</td>\n",
       "      <td>1ABCD</td>\n",
       "      <td>IRT</td>\n",
       "      <td>None</td>\n",
       "    </tr>\n",
       "    <tr>\n",
       "      <th>18</th>\n",
       "      <td>116 ST</td>\n",
       "      <td>23</td>\n",
       "      <td>IRT</td>\n",
       "      <td>None</td>\n",
       "    </tr>\n",
       "    <tr>\n",
       "      <th>19</th>\n",
       "      <td>ASTOR PLACE</td>\n",
       "      <td>6</td>\n",
       "      <td>IRT</td>\n",
       "      <td>(40.730054, -73.99107)</td>\n",
       "    </tr>\n",
       "    <tr>\n",
       "      <th>20</th>\n",
       "      <td>59 ST-COLUMBUS</td>\n",
       "      <td>ABCD1</td>\n",
       "      <td>IND</td>\n",
       "      <td>None</td>\n",
       "    </tr>\n",
       "    <tr>\n",
       "      <th>21</th>\n",
       "      <td>72 ST</td>\n",
       "      <td>123</td>\n",
       "      <td>IRT</td>\n",
       "      <td>None</td>\n",
       "    </tr>\n",
       "    <tr>\n",
       "      <th>22</th>\n",
       "      <td>CANAL ST</td>\n",
       "      <td>1</td>\n",
       "      <td>IRT</td>\n",
       "      <td>None</td>\n",
       "    </tr>\n",
       "    <tr>\n",
       "      <th>23</th>\n",
       "      <td>5 AVE-59 ST</td>\n",
       "      <td>NQR</td>\n",
       "      <td>BMT</td>\n",
       "      <td>None</td>\n",
       "    </tr>\n",
       "    <tr>\n",
       "      <th>24</th>\n",
       "      <td>66 ST-LINCOLN</td>\n",
       "      <td>1</td>\n",
       "      <td>IRT</td>\n",
       "      <td>(40.77344, -73.982209)</td>\n",
       "    </tr>\n",
       "    <tr>\n",
       "      <th>25</th>\n",
       "      <td>BROAD ST</td>\n",
       "      <td>JZ</td>\n",
       "      <td>BMT</td>\n",
       "      <td>(40.706476, -74.011056)</td>\n",
       "    </tr>\n",
       "    <tr>\n",
       "      <th>26</th>\n",
       "      <td>FULTON ST</td>\n",
       "      <td>2345ACJZ</td>\n",
       "      <td>IRT</td>\n",
       "      <td>None</td>\n",
       "    </tr>\n",
       "    <tr>\n",
       "      <th>27</th>\n",
       "      <td>BROOKLYN BRIDGE</td>\n",
       "      <td>456JZ</td>\n",
       "      <td>IRT</td>\n",
       "      <td>(40.711824, -74.005057)</td>\n",
       "    </tr>\n",
       "    <tr>\n",
       "      <th>28</th>\n",
       "      <td>86 ST</td>\n",
       "      <td>1</td>\n",
       "      <td>IRT</td>\n",
       "      <td>None</td>\n",
       "    </tr>\n",
       "    <tr>\n",
       "      <th>29</th>\n",
       "      <td>68ST-HUNTER COL</td>\n",
       "      <td>6</td>\n",
       "      <td>IRT</td>\n",
       "      <td>None</td>\n",
       "    </tr>\n",
       "    <tr>\n",
       "      <th>...</th>\n",
       "      <td>...</td>\n",
       "      <td>...</td>\n",
       "      <td>...</td>\n",
       "      <td>...</td>\n",
       "    </tr>\n",
       "    <tr>\n",
       "      <th>156</th>\n",
       "      <td>8 AV</td>\n",
       "      <td>ACEL</td>\n",
       "      <td>BMT</td>\n",
       "      <td>None</td>\n",
       "    </tr>\n",
       "    <tr>\n",
       "      <th>157</th>\n",
       "      <td>3 AV</td>\n",
       "      <td>L</td>\n",
       "      <td>BMT</td>\n",
       "      <td>(40.732849, -73.986122)</td>\n",
       "    </tr>\n",
       "    <tr>\n",
       "      <th>158</th>\n",
       "      <td>6 AV</td>\n",
       "      <td>FLM123</td>\n",
       "      <td>BMT</td>\n",
       "      <td>(40.737335, -73.996786)</td>\n",
       "    </tr>\n",
       "    <tr>\n",
       "      <th>159</th>\n",
       "      <td>1 AV</td>\n",
       "      <td>L</td>\n",
       "      <td>BMT</td>\n",
       "      <td>None</td>\n",
       "    </tr>\n",
       "    <tr>\n",
       "      <th>160</th>\n",
       "      <td>DYCKMAN ST</td>\n",
       "      <td>A</td>\n",
       "      <td>IND</td>\n",
       "      <td>None</td>\n",
       "    </tr>\n",
       "    <tr>\n",
       "      <th>161</th>\n",
       "      <td>168 ST</td>\n",
       "      <td>AC1</td>\n",
       "      <td>IND</td>\n",
       "      <td>None</td>\n",
       "    </tr>\n",
       "    <tr>\n",
       "      <th>162</th>\n",
       "      <td>CATHEDRAL PKWY</td>\n",
       "      <td>BC</td>\n",
       "      <td>IND</td>\n",
       "      <td>None</td>\n",
       "    </tr>\n",
       "    <tr>\n",
       "      <th>163</th>\n",
       "      <td>59 ST COLUMBUS</td>\n",
       "      <td>ABCD1</td>\n",
       "      <td>IND</td>\n",
       "      <td>None</td>\n",
       "    </tr>\n",
       "    <tr>\n",
       "      <th>164</th>\n",
       "      <td>42 ST-PORT AUTH</td>\n",
       "      <td>ACENGRS1237</td>\n",
       "      <td>IND</td>\n",
       "      <td>None</td>\n",
       "    </tr>\n",
       "    <tr>\n",
       "      <th>165</th>\n",
       "      <td>42 ST-PORT AUTH</td>\n",
       "      <td>ACENQRS1237</td>\n",
       "      <td>IND</td>\n",
       "      <td>None</td>\n",
       "    </tr>\n",
       "    <tr>\n",
       "      <th>166</th>\n",
       "      <td>7 AV</td>\n",
       "      <td>BDE</td>\n",
       "      <td>IND</td>\n",
       "      <td>None</td>\n",
       "    </tr>\n",
       "    <tr>\n",
       "      <th>167</th>\n",
       "      <td>5 AV/53 ST</td>\n",
       "      <td>EM</td>\n",
       "      <td>IND</td>\n",
       "      <td>None</td>\n",
       "    </tr>\n",
       "    <tr>\n",
       "      <th>168</th>\n",
       "      <td>LEXINGTON AV/53</td>\n",
       "      <td>EM6</td>\n",
       "      <td>IND</td>\n",
       "      <td>None</td>\n",
       "    </tr>\n",
       "    <tr>\n",
       "      <th>169</th>\n",
       "      <td>47-50 STS ROCK</td>\n",
       "      <td>BDFM</td>\n",
       "      <td>IND</td>\n",
       "      <td>None</td>\n",
       "    </tr>\n",
       "    <tr>\n",
       "      <th>170</th>\n",
       "      <td>23 ST</td>\n",
       "      <td>FM</td>\n",
       "      <td>IND</td>\n",
       "      <td>None</td>\n",
       "    </tr>\n",
       "    <tr>\n",
       "      <th>171</th>\n",
       "      <td>2 AV</td>\n",
       "      <td>F</td>\n",
       "      <td>IND</td>\n",
       "      <td>None</td>\n",
       "    </tr>\n",
       "    <tr>\n",
       "      <th>172</th>\n",
       "      <td>14 ST</td>\n",
       "      <td>FLM123</td>\n",
       "      <td>IND</td>\n",
       "      <td>None</td>\n",
       "    </tr>\n",
       "    <tr>\n",
       "      <th>173</th>\n",
       "      <td>B'WAY-LAFAYETTE</td>\n",
       "      <td>BDFQ6</td>\n",
       "      <td>IND</td>\n",
       "      <td>(40.725297, -73.996204)</td>\n",
       "    </tr>\n",
       "    <tr>\n",
       "      <th>174</th>\n",
       "      <td>7 AV</td>\n",
       "      <td>FG</td>\n",
       "      <td>IND</td>\n",
       "      <td>None</td>\n",
       "    </tr>\n",
       "    <tr>\n",
       "      <th>175</th>\n",
       "      <td>LEXINGTON AV/63</td>\n",
       "      <td>F</td>\n",
       "      <td>IND</td>\n",
       "      <td>None</td>\n",
       "    </tr>\n",
       "    <tr>\n",
       "      <th>176</th>\n",
       "      <td>ROOSEVELT ISLND</td>\n",
       "      <td>F</td>\n",
       "      <td>IND</td>\n",
       "      <td>None</td>\n",
       "    </tr>\n",
       "    <tr>\n",
       "      <th>177</th>\n",
       "      <td>TIMES SQ-42 ST</td>\n",
       "      <td>1237ACENQRS</td>\n",
       "      <td>IRT</td>\n",
       "      <td>None</td>\n",
       "    </tr>\n",
       "    <tr>\n",
       "      <th>178</th>\n",
       "      <td>59 ST COLUMBUS</td>\n",
       "      <td>1ABCD</td>\n",
       "      <td>IRT</td>\n",
       "      <td>None</td>\n",
       "    </tr>\n",
       "    <tr>\n",
       "      <th>179</th>\n",
       "      <td>CATHEDRAL PKWY</td>\n",
       "      <td>1</td>\n",
       "      <td>IRT</td>\n",
       "      <td>None</td>\n",
       "    </tr>\n",
       "    <tr>\n",
       "      <th>180</th>\n",
       "      <td>137 ST CITY COL</td>\n",
       "      <td>1</td>\n",
       "      <td>IRT</td>\n",
       "      <td>None</td>\n",
       "    </tr>\n",
       "    <tr>\n",
       "      <th>181</th>\n",
       "      <td>168 ST</td>\n",
       "      <td>1AC</td>\n",
       "      <td>IRT</td>\n",
       "      <td>None</td>\n",
       "    </tr>\n",
       "    <tr>\n",
       "      <th>182</th>\n",
       "      <td>GRD CNTRL-42 ST</td>\n",
       "      <td>4567S</td>\n",
       "      <td>IRT</td>\n",
       "      <td>(40.751431, -73.976041)</td>\n",
       "    </tr>\n",
       "    <tr>\n",
       "      <th>183</th>\n",
       "      <td>68ST-HUNTER CO</td>\n",
       "      <td>6</td>\n",
       "      <td>IRT</td>\n",
       "      <td>None</td>\n",
       "    </tr>\n",
       "    <tr>\n",
       "      <th>184</th>\n",
       "      <td>HARLEM 148 ST</td>\n",
       "      <td>3</td>\n",
       "      <td>IRT</td>\n",
       "      <td>(40.82388, -73.93647)</td>\n",
       "    </tr>\n",
       "    <tr>\n",
       "      <th>185</th>\n",
       "      <td>5 AVE</td>\n",
       "      <td>7BDFM</td>\n",
       "      <td>IRT</td>\n",
       "      <td>None</td>\n",
       "    </tr>\n",
       "  </tbody>\n",
       "</table>\n",
       "<p>186 rows × 4 columns</p>\n",
       "</div>"
      ],
      "text/plain": [
       "             Station    Line Name Division                 Location\n",
       "0             125 ST         ACBD      IND                     None\n",
       "1           CANAL ST          ACE      IND                     None\n",
       "2            WALL ST           23      IRT                     None\n",
       "3        CHAMBERS ST        ACE23      IND                     None\n",
       "4     28 ST-BROADWAY           NR      BMT                     None\n",
       "5     8 ST-B'WAY NYU           NR      BMT                     None\n",
       "6    42 ST-BRYANT PK        BDFM7      IND                     None\n",
       "7       81 ST-MUSEUM           BC      IND  (40.781433, -73.972143)\n",
       "8     34 ST-PENN STA          ACE      IND                     None\n",
       "9     42 ST-TIMES SQ  1237ACENQRS      IRT                     None\n",
       "10             23 ST            6      IRT                     None\n",
       "11            215 ST            1      IRT  (40.869444, -73.915279)\n",
       "12             28 ST            1      IRT                     None\n",
       "13        HOUSTON ST            1      IRT  (40.728251, -74.005367)\n",
       "14         SPRING ST           CE      IND                     None\n",
       "15             57 ST            F      IND                     None\n",
       "16         FULTON ST     ACJZ2345      BMT                     None\n",
       "17    59 ST-COLUMBUS        1ABCD      IRT                     None\n",
       "18            116 ST           23      IRT                     None\n",
       "19       ASTOR PLACE            6      IRT   (40.730054, -73.99107)\n",
       "20    59 ST-COLUMBUS        ABCD1      IND                     None\n",
       "21             72 ST          123      IRT                     None\n",
       "22          CANAL ST            1      IRT                     None\n",
       "23       5 AVE-59 ST          NQR      BMT                     None\n",
       "24     66 ST-LINCOLN            1      IRT   (40.77344, -73.982209)\n",
       "25          BROAD ST           JZ      BMT  (40.706476, -74.011056)\n",
       "26         FULTON ST     2345ACJZ      IRT                     None\n",
       "27   BROOKLYN BRIDGE        456JZ      IRT  (40.711824, -74.005057)\n",
       "28             86 ST            1      IRT                     None\n",
       "29   68ST-HUNTER COL            6      IRT                     None\n",
       "..               ...          ...      ...                      ...\n",
       "156             8 AV         ACEL      BMT                     None\n",
       "157             3 AV            L      BMT  (40.732849, -73.986122)\n",
       "158             6 AV       FLM123      BMT  (40.737335, -73.996786)\n",
       "159             1 AV            L      BMT                     None\n",
       "160       DYCKMAN ST            A      IND                     None\n",
       "161           168 ST          AC1      IND                     None\n",
       "162   CATHEDRAL PKWY           BC      IND                     None\n",
       "163   59 ST COLUMBUS        ABCD1      IND                     None\n",
       "164  42 ST-PORT AUTH  ACENGRS1237      IND                     None\n",
       "165  42 ST-PORT AUTH  ACENQRS1237      IND                     None\n",
       "166             7 AV          BDE      IND                     None\n",
       "167       5 AV/53 ST           EM      IND                     None\n",
       "168  LEXINGTON AV/53          EM6      IND                     None\n",
       "169   47-50 STS ROCK         BDFM      IND                     None\n",
       "170            23 ST           FM      IND                     None\n",
       "171             2 AV            F      IND                     None\n",
       "172            14 ST       FLM123      IND                     None\n",
       "173  B'WAY-LAFAYETTE        BDFQ6      IND  (40.725297, -73.996204)\n",
       "174             7 AV           FG      IND                     None\n",
       "175  LEXINGTON AV/63            F      IND                     None\n",
       "176  ROOSEVELT ISLND            F      IND                     None\n",
       "177   TIMES SQ-42 ST  1237ACENQRS      IRT                     None\n",
       "178   59 ST COLUMBUS        1ABCD      IRT                     None\n",
       "179   CATHEDRAL PKWY            1      IRT                     None\n",
       "180  137 ST CITY COL            1      IRT                     None\n",
       "181           168 ST          1AC      IRT                     None\n",
       "182  GRD CNTRL-42 ST        4567S      IRT  (40.751431, -73.976041)\n",
       "183   68ST-HUNTER CO            6      IRT                     None\n",
       "184    HARLEM 148 ST            3      IRT    (40.82388, -73.93647)\n",
       "185            5 AVE        7BDFM      IRT                     None\n",
       "\n",
       "[186 rows x 4 columns]"
      ]
     },
     "execution_count": 118,
     "metadata": {},
     "output_type": "execute_result"
    }
   ],
   "source": [
    "station_name"
   ]
  },
  {
   "cell_type": "code",
   "execution_count": 119,
   "metadata": {},
   "outputs": [
    {
     "data": {
      "text/plain": [
       "142"
      ]
     },
     "execution_count": 119,
     "metadata": {},
     "output_type": "execute_result"
    }
   ],
   "source": [
    "cnt = 0\n",
    "for i in range(station_name.shape[0]):\n",
    "    if station_name.loc[i,\"Location\"] == None:\n",
    "        cnt += 1\n",
    "cnt"
   ]
  },
  {
   "cell_type": "code",
   "execution_count": null,
   "metadata": {
    "collapsed": true
   },
   "outputs": [],
   "source": []
  },
  {
   "cell_type": "code",
   "execution_count": 122,
   "metadata": {},
   "outputs": [
    {
     "data": {
      "text/plain": [
       "{'110 ST': (40.795020000000001, -73.944249999999997),\n",
       " '110 ST-CPN': (40.799075000000002, -73.951821999999979),\n",
       " '116 ST-COLUMBIA': (40.807721999999998, -73.964109999999977),\n",
       " '157 ST': (40.834040999999999, -73.944890000000001),\n",
       " '163 ST-AMSTERDM': (40.836013000000001, -73.939892),\n",
       " '175 ST': (40.847391000000002, -73.939704000000006),\n",
       " '18 ST': (40.741040000000012, -73.997870999999975),\n",
       " '190 ST': (40.859022000000003, -73.934179999999998),\n",
       " '191 ST': (40.855224999999997, -73.929411999999999),\n",
       " '207 ST': (40.864614000000003, -73.918818999999999),\n",
       " '215 ST': (40.869444000000001, -73.915278999999998),\n",
       " '3 AV': (40.732849000000002, -73.986121999999995),\n",
       " '33 ST': (40.746080999999997, -73.982076000000006),\n",
       " '34 ST-HUDSON YD': (40.755882, -74.001909999999995),\n",
       " '49 ST': (40.759900999999999, -73.984138999999999),\n",
       " '5 AVE-53 ST': (40.760167000000003, -73.975223999999997),\n",
       " '51 ST': (40.757106999999998, -73.971919999999997),\n",
       " '6 AV': (40.737335000000002, -73.996786),\n",
       " '66 ST-LINCOLN': (40.773440000000001, -73.982208999999997),\n",
       " '81 ST-MUSEUM': (40.781433, -73.972143000000003),\n",
       " 'ASTOR PLACE': (40.730054000000003, -73.991069999999993),\n",
       " \"B'WAY-LAFAYETTE\": (40.725296999999998, -73.996204000000006),\n",
       " 'BLEECKER ST': (40.725915000000001, -73.994658999999999),\n",
       " 'BOWERY': (40.720280000000002, -73.993915000000001),\n",
       " 'BOWLING GREEN': (40.704816999999998, -74.014065000000002),\n",
       " 'BROAD ST': (40.706476000000002, -74.011056000000025),\n",
       " 'BROOKLYN BRIDGE': (40.711824, -74.005056999999994),\n",
       " 'CITY HALL': (40.713282, -74.006978000000004),\n",
       " 'CORTLANDT ST': (40.710667999999998, -74.011029000000022),\n",
       " 'DELANCEY ST': (40.718611000000003, -73.988113999999996),\n",
       " 'DYCKMAN-200 ST': (40.865490999999999, -73.927270999999976),\n",
       " 'EAST BROADWAY': (40.713715000000001, -73.990172999999999),\n",
       " 'ESSEX ST': (40.718314999999997, -73.987437),\n",
       " 'FRANKLIN ST': (40.719318000000001, -74.006885999999994),\n",
       " 'GRD CNTRL-42 ST': (40.751430999999997, -73.976041000000023),\n",
       " 'HARLEM 148 ST': (40.823880000000003, -73.93647),\n",
       " 'HOUSTON ST': (40.728251, -74.005367000000007),\n",
       " 'INWOOD-207 ST': (40.868071999999998, -73.919899000000001),\n",
       " 'MARBLE HILL-225': (40.874561, -73.909831000000025),\n",
       " 'PRINCE ST': (40.724328999999997, -73.997702000000004),\n",
       " 'SOUTH FERRY': (40.702067999999997, -74.013664000000006),\n",
       " 'W 4 ST-WASH SQ': (40.732337999999999, -74.000495000000001),\n",
       " 'WHITEHALL ST': (40.703086999999996, -74.012993999999978),\n",
       " 'WORLD TRADE CTR': (40.712581999999998, -74.009781000000004)}"
      ]
     },
     "execution_count": 122,
     "metadata": {},
     "output_type": "execute_result"
    }
   ],
   "source": [
    "address_book"
   ]
  },
  {
   "cell_type": "code",
   "execution_count": 120,
   "metadata": {},
   "outputs": [
    {
     "data": {
      "text/plain": [
       "{'1 AV': 1,\n",
       " '1 AVE': 1,\n",
       " '103 ST': 3,\n",
       " '116 ST': 3,\n",
       " '125 ST': 4,\n",
       " '135 ST': 2,\n",
       " '137 ST CITY COL': 1,\n",
       " '137 ST-CITY COL': 1,\n",
       " '14 ST': 3,\n",
       " '14 ST-6 AVE': 1,\n",
       " '14 ST-UNION SQ': 2,\n",
       " '145 ST': 3,\n",
       " '155 ST': 2,\n",
       " '168 ST': 2,\n",
       " '168 ST-BROADWAY': 2,\n",
       " '181 ST': 2,\n",
       " '2 AV': 1,\n",
       " '2 AVE': 1,\n",
       " '23 ST': 5,\n",
       " '28 ST': 3,\n",
       " '28 ST-BROADWAY': 1,\n",
       " '34 ST-HERALD SQ': 2,\n",
       " '34 ST-PENN STA': 3,\n",
       " '42 ST-BRYANT PK': 1,\n",
       " '42 ST-GRD CNTRL': 1,\n",
       " '42 ST-PA BUS TE': 2,\n",
       " '42 ST-PORT AUTH': 2,\n",
       " '42 ST-TIMES SQ': 2,\n",
       " '47-50 ST-ROCK': 1,\n",
       " '47-50 STS ROCK': 1,\n",
       " '5 AV/53 ST': 1,\n",
       " '5 AV/59 ST': 1,\n",
       " '5 AVE': 1,\n",
       " '5 AVE-59 ST': 1,\n",
       " '5 AVE-BRYANT PK': 1,\n",
       " '50 ST': 3,\n",
       " '57 ST': 1,\n",
       " '57 ST-7 AV': 1,\n",
       " '57 ST-7 AVE': 1,\n",
       " '59 ST': 3,\n",
       " '59 ST COLUMBUS': 2,\n",
       " '59 ST-COLUMBUS': 2,\n",
       " '68ST-HUNTER CO': 1,\n",
       " '68ST-HUNTER COL': 1,\n",
       " '7 AV': 3,\n",
       " '7 AV-PARK SLOPE': 1,\n",
       " '7 AVE': 1,\n",
       " '7 AVE-53 ST': 1,\n",
       " '72 ST': 2,\n",
       " '77 ST': 2,\n",
       " '79 ST': 2,\n",
       " '8 AV': 2,\n",
       " '8 AVE': 2,\n",
       " \"8 ST-B'WAY NYU\": 1,\n",
       " '8 ST-NYU': 1,\n",
       " '86 ST': 5,\n",
       " '96 ST': 3,\n",
       " 'CANAL ST': 3,\n",
       " 'CATHEDRAL PKWY': 2,\n",
       " 'CATHEDRL-110 ST': 1,\n",
       " 'CHAMBERS ST': 3,\n",
       " 'CHRISTOPHER ST': 2,\n",
       " 'DYCKMAN ST': 2,\n",
       " 'FULTON ST': 5,\n",
       " 'GRAND ST': 2,\n",
       " 'LEXINGTON AV/53': 1,\n",
       " 'LEXINGTON AV/63': 1,\n",
       " 'LEXINGTON AVE': 2,\n",
       " 'LEXINGTON-53 ST': 1,\n",
       " 'PARK PLACE': 2,\n",
       " 'RECTOR ST': 2,\n",
       " 'ROOSEVELT IS': 1,\n",
       " 'ROOSEVELT ISLND': 1,\n",
       " 'SPRING ST': 2,\n",
       " 'TIMES SQ-42 ST': 2,\n",
       " 'WALL ST': 2}"
      ]
     },
     "execution_count": 120,
     "metadata": {},
     "output_type": "execute_result"
    }
   ],
   "source": [
    "manual_station"
   ]
  },
  {
   "cell_type": "code",
   "execution_count": 121,
   "metadata": {},
   "outputs": [
    {
     "data": {
      "text/html": [
       "<div>\n",
       "<style>\n",
       "    .dataframe thead tr:only-child th {\n",
       "        text-align: right;\n",
       "    }\n",
       "\n",
       "    .dataframe thead th {\n",
       "        text-align: left;\n",
       "    }\n",
       "\n",
       "    .dataframe tbody tr th {\n",
       "        vertical-align: top;\n",
       "    }\n",
       "</style>\n",
       "<table border=\"1\" class=\"dataframe\">\n",
       "  <thead>\n",
       "    <tr style=\"text-align: right;\">\n",
       "      <th></th>\n",
       "      <th>Station</th>\n",
       "      <th>Line Name</th>\n",
       "      <th>Division</th>\n",
       "      <th>Location</th>\n",
       "    </tr>\n",
       "  </thead>\n",
       "  <tbody>\n",
       "    <tr>\n",
       "      <th>0</th>\n",
       "      <td>125 ST</td>\n",
       "      <td>ACBD</td>\n",
       "      <td>IND</td>\n",
       "      <td>None</td>\n",
       "    </tr>\n",
       "    <tr>\n",
       "      <th>1</th>\n",
       "      <td>CANAL ST</td>\n",
       "      <td>ACE</td>\n",
       "      <td>IND</td>\n",
       "      <td>None</td>\n",
       "    </tr>\n",
       "    <tr>\n",
       "      <th>2</th>\n",
       "      <td>WALL ST</td>\n",
       "      <td>23</td>\n",
       "      <td>IRT</td>\n",
       "      <td>None</td>\n",
       "    </tr>\n",
       "    <tr>\n",
       "      <th>3</th>\n",
       "      <td>CHAMBERS ST</td>\n",
       "      <td>ACE23</td>\n",
       "      <td>IND</td>\n",
       "      <td>None</td>\n",
       "    </tr>\n",
       "    <tr>\n",
       "      <th>4</th>\n",
       "      <td>28 ST-BROADWAY</td>\n",
       "      <td>NR</td>\n",
       "      <td>BMT</td>\n",
       "      <td>None</td>\n",
       "    </tr>\n",
       "    <tr>\n",
       "      <th>5</th>\n",
       "      <td>8 ST-B'WAY NYU</td>\n",
       "      <td>NR</td>\n",
       "      <td>BMT</td>\n",
       "      <td>None</td>\n",
       "    </tr>\n",
       "    <tr>\n",
       "      <th>6</th>\n",
       "      <td>42 ST-BRYANT PK</td>\n",
       "      <td>BDFM7</td>\n",
       "      <td>IND</td>\n",
       "      <td>None</td>\n",
       "    </tr>\n",
       "    <tr>\n",
       "      <th>7</th>\n",
       "      <td>81 ST-MUSEUM</td>\n",
       "      <td>BC</td>\n",
       "      <td>IND</td>\n",
       "      <td>(40.781433, -73.972143)</td>\n",
       "    </tr>\n",
       "    <tr>\n",
       "      <th>8</th>\n",
       "      <td>34 ST-PENN STA</td>\n",
       "      <td>ACE</td>\n",
       "      <td>IND</td>\n",
       "      <td>None</td>\n",
       "    </tr>\n",
       "    <tr>\n",
       "      <th>9</th>\n",
       "      <td>42 ST-TIMES SQ</td>\n",
       "      <td>1237ACENQRS</td>\n",
       "      <td>IRT</td>\n",
       "      <td>None</td>\n",
       "    </tr>\n",
       "    <tr>\n",
       "      <th>10</th>\n",
       "      <td>23 ST</td>\n",
       "      <td>6</td>\n",
       "      <td>IRT</td>\n",
       "      <td>None</td>\n",
       "    </tr>\n",
       "    <tr>\n",
       "      <th>11</th>\n",
       "      <td>215 ST</td>\n",
       "      <td>1</td>\n",
       "      <td>IRT</td>\n",
       "      <td>(40.869444, -73.915279)</td>\n",
       "    </tr>\n",
       "    <tr>\n",
       "      <th>12</th>\n",
       "      <td>28 ST</td>\n",
       "      <td>1</td>\n",
       "      <td>IRT</td>\n",
       "      <td>None</td>\n",
       "    </tr>\n",
       "    <tr>\n",
       "      <th>13</th>\n",
       "      <td>HOUSTON ST</td>\n",
       "      <td>1</td>\n",
       "      <td>IRT</td>\n",
       "      <td>(40.728251, -74.005367)</td>\n",
       "    </tr>\n",
       "    <tr>\n",
       "      <th>14</th>\n",
       "      <td>SPRING ST</td>\n",
       "      <td>CE</td>\n",
       "      <td>IND</td>\n",
       "      <td>None</td>\n",
       "    </tr>\n",
       "    <tr>\n",
       "      <th>15</th>\n",
       "      <td>57 ST</td>\n",
       "      <td>F</td>\n",
       "      <td>IND</td>\n",
       "      <td>None</td>\n",
       "    </tr>\n",
       "    <tr>\n",
       "      <th>16</th>\n",
       "      <td>FULTON ST</td>\n",
       "      <td>ACJZ2345</td>\n",
       "      <td>BMT</td>\n",
       "      <td>None</td>\n",
       "    </tr>\n",
       "    <tr>\n",
       "      <th>17</th>\n",
       "      <td>59 ST-COLUMBUS</td>\n",
       "      <td>1ABCD</td>\n",
       "      <td>IRT</td>\n",
       "      <td>None</td>\n",
       "    </tr>\n",
       "    <tr>\n",
       "      <th>18</th>\n",
       "      <td>116 ST</td>\n",
       "      <td>23</td>\n",
       "      <td>IRT</td>\n",
       "      <td>None</td>\n",
       "    </tr>\n",
       "    <tr>\n",
       "      <th>19</th>\n",
       "      <td>ASTOR PLACE</td>\n",
       "      <td>6</td>\n",
       "      <td>IRT</td>\n",
       "      <td>(40.730054, -73.99107)</td>\n",
       "    </tr>\n",
       "    <tr>\n",
       "      <th>20</th>\n",
       "      <td>59 ST-COLUMBUS</td>\n",
       "      <td>ABCD1</td>\n",
       "      <td>IND</td>\n",
       "      <td>None</td>\n",
       "    </tr>\n",
       "    <tr>\n",
       "      <th>21</th>\n",
       "      <td>72 ST</td>\n",
       "      <td>123</td>\n",
       "      <td>IRT</td>\n",
       "      <td>None</td>\n",
       "    </tr>\n",
       "    <tr>\n",
       "      <th>22</th>\n",
       "      <td>CANAL ST</td>\n",
       "      <td>1</td>\n",
       "      <td>IRT</td>\n",
       "      <td>None</td>\n",
       "    </tr>\n",
       "    <tr>\n",
       "      <th>23</th>\n",
       "      <td>5 AVE-59 ST</td>\n",
       "      <td>NQR</td>\n",
       "      <td>BMT</td>\n",
       "      <td>None</td>\n",
       "    </tr>\n",
       "    <tr>\n",
       "      <th>24</th>\n",
       "      <td>66 ST-LINCOLN</td>\n",
       "      <td>1</td>\n",
       "      <td>IRT</td>\n",
       "      <td>(40.77344, -73.982209)</td>\n",
       "    </tr>\n",
       "    <tr>\n",
       "      <th>25</th>\n",
       "      <td>BROAD ST</td>\n",
       "      <td>JZ</td>\n",
       "      <td>BMT</td>\n",
       "      <td>(40.706476, -74.011056)</td>\n",
       "    </tr>\n",
       "    <tr>\n",
       "      <th>26</th>\n",
       "      <td>FULTON ST</td>\n",
       "      <td>2345ACJZ</td>\n",
       "      <td>IRT</td>\n",
       "      <td>None</td>\n",
       "    </tr>\n",
       "    <tr>\n",
       "      <th>27</th>\n",
       "      <td>BROOKLYN BRIDGE</td>\n",
       "      <td>456JZ</td>\n",
       "      <td>IRT</td>\n",
       "      <td>(40.711824, -74.005057)</td>\n",
       "    </tr>\n",
       "    <tr>\n",
       "      <th>28</th>\n",
       "      <td>86 ST</td>\n",
       "      <td>1</td>\n",
       "      <td>IRT</td>\n",
       "      <td>None</td>\n",
       "    </tr>\n",
       "    <tr>\n",
       "      <th>29</th>\n",
       "      <td>68ST-HUNTER COL</td>\n",
       "      <td>6</td>\n",
       "      <td>IRT</td>\n",
       "      <td>None</td>\n",
       "    </tr>\n",
       "    <tr>\n",
       "      <th>...</th>\n",
       "      <td>...</td>\n",
       "      <td>...</td>\n",
       "      <td>...</td>\n",
       "      <td>...</td>\n",
       "    </tr>\n",
       "    <tr>\n",
       "      <th>156</th>\n",
       "      <td>8 AV</td>\n",
       "      <td>ACEL</td>\n",
       "      <td>BMT</td>\n",
       "      <td>None</td>\n",
       "    </tr>\n",
       "    <tr>\n",
       "      <th>157</th>\n",
       "      <td>3 AV</td>\n",
       "      <td>L</td>\n",
       "      <td>BMT</td>\n",
       "      <td>(40.732849, -73.986122)</td>\n",
       "    </tr>\n",
       "    <tr>\n",
       "      <th>158</th>\n",
       "      <td>6 AV</td>\n",
       "      <td>FLM123</td>\n",
       "      <td>BMT</td>\n",
       "      <td>(40.737335, -73.996786)</td>\n",
       "    </tr>\n",
       "    <tr>\n",
       "      <th>159</th>\n",
       "      <td>1 AV</td>\n",
       "      <td>L</td>\n",
       "      <td>BMT</td>\n",
       "      <td>None</td>\n",
       "    </tr>\n",
       "    <tr>\n",
       "      <th>160</th>\n",
       "      <td>DYCKMAN ST</td>\n",
       "      <td>A</td>\n",
       "      <td>IND</td>\n",
       "      <td>None</td>\n",
       "    </tr>\n",
       "    <tr>\n",
       "      <th>161</th>\n",
       "      <td>168 ST</td>\n",
       "      <td>AC1</td>\n",
       "      <td>IND</td>\n",
       "      <td>None</td>\n",
       "    </tr>\n",
       "    <tr>\n",
       "      <th>162</th>\n",
       "      <td>CATHEDRAL PKWY</td>\n",
       "      <td>BC</td>\n",
       "      <td>IND</td>\n",
       "      <td>None</td>\n",
       "    </tr>\n",
       "    <tr>\n",
       "      <th>163</th>\n",
       "      <td>59 ST COLUMBUS</td>\n",
       "      <td>ABCD1</td>\n",
       "      <td>IND</td>\n",
       "      <td>None</td>\n",
       "    </tr>\n",
       "    <tr>\n",
       "      <th>164</th>\n",
       "      <td>42 ST-PORT AUTH</td>\n",
       "      <td>ACENGRS1237</td>\n",
       "      <td>IND</td>\n",
       "      <td>None</td>\n",
       "    </tr>\n",
       "    <tr>\n",
       "      <th>165</th>\n",
       "      <td>42 ST-PORT AUTH</td>\n",
       "      <td>ACENQRS1237</td>\n",
       "      <td>IND</td>\n",
       "      <td>None</td>\n",
       "    </tr>\n",
       "    <tr>\n",
       "      <th>166</th>\n",
       "      <td>7 AV</td>\n",
       "      <td>BDE</td>\n",
       "      <td>IND</td>\n",
       "      <td>None</td>\n",
       "    </tr>\n",
       "    <tr>\n",
       "      <th>167</th>\n",
       "      <td>5 AV/53 ST</td>\n",
       "      <td>EM</td>\n",
       "      <td>IND</td>\n",
       "      <td>None</td>\n",
       "    </tr>\n",
       "    <tr>\n",
       "      <th>168</th>\n",
       "      <td>LEXINGTON AV/53</td>\n",
       "      <td>EM6</td>\n",
       "      <td>IND</td>\n",
       "      <td>None</td>\n",
       "    </tr>\n",
       "    <tr>\n",
       "      <th>169</th>\n",
       "      <td>47-50 STS ROCK</td>\n",
       "      <td>BDFM</td>\n",
       "      <td>IND</td>\n",
       "      <td>None</td>\n",
       "    </tr>\n",
       "    <tr>\n",
       "      <th>170</th>\n",
       "      <td>23 ST</td>\n",
       "      <td>FM</td>\n",
       "      <td>IND</td>\n",
       "      <td>None</td>\n",
       "    </tr>\n",
       "    <tr>\n",
       "      <th>171</th>\n",
       "      <td>2 AV</td>\n",
       "      <td>F</td>\n",
       "      <td>IND</td>\n",
       "      <td>None</td>\n",
       "    </tr>\n",
       "    <tr>\n",
       "      <th>172</th>\n",
       "      <td>14 ST</td>\n",
       "      <td>FLM123</td>\n",
       "      <td>IND</td>\n",
       "      <td>None</td>\n",
       "    </tr>\n",
       "    <tr>\n",
       "      <th>173</th>\n",
       "      <td>B'WAY-LAFAYETTE</td>\n",
       "      <td>BDFQ6</td>\n",
       "      <td>IND</td>\n",
       "      <td>(40.725297, -73.996204)</td>\n",
       "    </tr>\n",
       "    <tr>\n",
       "      <th>174</th>\n",
       "      <td>7 AV</td>\n",
       "      <td>FG</td>\n",
       "      <td>IND</td>\n",
       "      <td>None</td>\n",
       "    </tr>\n",
       "    <tr>\n",
       "      <th>175</th>\n",
       "      <td>LEXINGTON AV/63</td>\n",
       "      <td>F</td>\n",
       "      <td>IND</td>\n",
       "      <td>None</td>\n",
       "    </tr>\n",
       "    <tr>\n",
       "      <th>176</th>\n",
       "      <td>ROOSEVELT ISLND</td>\n",
       "      <td>F</td>\n",
       "      <td>IND</td>\n",
       "      <td>None</td>\n",
       "    </tr>\n",
       "    <tr>\n",
       "      <th>177</th>\n",
       "      <td>TIMES SQ-42 ST</td>\n",
       "      <td>1237ACENQRS</td>\n",
       "      <td>IRT</td>\n",
       "      <td>None</td>\n",
       "    </tr>\n",
       "    <tr>\n",
       "      <th>178</th>\n",
       "      <td>59 ST COLUMBUS</td>\n",
       "      <td>1ABCD</td>\n",
       "      <td>IRT</td>\n",
       "      <td>None</td>\n",
       "    </tr>\n",
       "    <tr>\n",
       "      <th>179</th>\n",
       "      <td>CATHEDRAL PKWY</td>\n",
       "      <td>1</td>\n",
       "      <td>IRT</td>\n",
       "      <td>None</td>\n",
       "    </tr>\n",
       "    <tr>\n",
       "      <th>180</th>\n",
       "      <td>137 ST CITY COL</td>\n",
       "      <td>1</td>\n",
       "      <td>IRT</td>\n",
       "      <td>None</td>\n",
       "    </tr>\n",
       "    <tr>\n",
       "      <th>181</th>\n",
       "      <td>168 ST</td>\n",
       "      <td>1AC</td>\n",
       "      <td>IRT</td>\n",
       "      <td>None</td>\n",
       "    </tr>\n",
       "    <tr>\n",
       "      <th>182</th>\n",
       "      <td>GRD CNTRL-42 ST</td>\n",
       "      <td>4567S</td>\n",
       "      <td>IRT</td>\n",
       "      <td>(40.751431, -73.976041)</td>\n",
       "    </tr>\n",
       "    <tr>\n",
       "      <th>183</th>\n",
       "      <td>68ST-HUNTER CO</td>\n",
       "      <td>6</td>\n",
       "      <td>IRT</td>\n",
       "      <td>None</td>\n",
       "    </tr>\n",
       "    <tr>\n",
       "      <th>184</th>\n",
       "      <td>HARLEM 148 ST</td>\n",
       "      <td>3</td>\n",
       "      <td>IRT</td>\n",
       "      <td>(40.82388, -73.93647)</td>\n",
       "    </tr>\n",
       "    <tr>\n",
       "      <th>185</th>\n",
       "      <td>5 AVE</td>\n",
       "      <td>7BDFM</td>\n",
       "      <td>IRT</td>\n",
       "      <td>None</td>\n",
       "    </tr>\n",
       "  </tbody>\n",
       "</table>\n",
       "<p>186 rows × 4 columns</p>\n",
       "</div>"
      ],
      "text/plain": [
       "             Station    Line Name Division                 Location\n",
       "0             125 ST         ACBD      IND                     None\n",
       "1           CANAL ST          ACE      IND                     None\n",
       "2            WALL ST           23      IRT                     None\n",
       "3        CHAMBERS ST        ACE23      IND                     None\n",
       "4     28 ST-BROADWAY           NR      BMT                     None\n",
       "5     8 ST-B'WAY NYU           NR      BMT                     None\n",
       "6    42 ST-BRYANT PK        BDFM7      IND                     None\n",
       "7       81 ST-MUSEUM           BC      IND  (40.781433, -73.972143)\n",
       "8     34 ST-PENN STA          ACE      IND                     None\n",
       "9     42 ST-TIMES SQ  1237ACENQRS      IRT                     None\n",
       "10             23 ST            6      IRT                     None\n",
       "11            215 ST            1      IRT  (40.869444, -73.915279)\n",
       "12             28 ST            1      IRT                     None\n",
       "13        HOUSTON ST            1      IRT  (40.728251, -74.005367)\n",
       "14         SPRING ST           CE      IND                     None\n",
       "15             57 ST            F      IND                     None\n",
       "16         FULTON ST     ACJZ2345      BMT                     None\n",
       "17    59 ST-COLUMBUS        1ABCD      IRT                     None\n",
       "18            116 ST           23      IRT                     None\n",
       "19       ASTOR PLACE            6      IRT   (40.730054, -73.99107)\n",
       "20    59 ST-COLUMBUS        ABCD1      IND                     None\n",
       "21             72 ST          123      IRT                     None\n",
       "22          CANAL ST            1      IRT                     None\n",
       "23       5 AVE-59 ST          NQR      BMT                     None\n",
       "24     66 ST-LINCOLN            1      IRT   (40.77344, -73.982209)\n",
       "25          BROAD ST           JZ      BMT  (40.706476, -74.011056)\n",
       "26         FULTON ST     2345ACJZ      IRT                     None\n",
       "27   BROOKLYN BRIDGE        456JZ      IRT  (40.711824, -74.005057)\n",
       "28             86 ST            1      IRT                     None\n",
       "29   68ST-HUNTER COL            6      IRT                     None\n",
       "..               ...          ...      ...                      ...\n",
       "156             8 AV         ACEL      BMT                     None\n",
       "157             3 AV            L      BMT  (40.732849, -73.986122)\n",
       "158             6 AV       FLM123      BMT  (40.737335, -73.996786)\n",
       "159             1 AV            L      BMT                     None\n",
       "160       DYCKMAN ST            A      IND                     None\n",
       "161           168 ST          AC1      IND                     None\n",
       "162   CATHEDRAL PKWY           BC      IND                     None\n",
       "163   59 ST COLUMBUS        ABCD1      IND                     None\n",
       "164  42 ST-PORT AUTH  ACENGRS1237      IND                     None\n",
       "165  42 ST-PORT AUTH  ACENQRS1237      IND                     None\n",
       "166             7 AV          BDE      IND                     None\n",
       "167       5 AV/53 ST           EM      IND                     None\n",
       "168  LEXINGTON AV/53          EM6      IND                     None\n",
       "169   47-50 STS ROCK         BDFM      IND                     None\n",
       "170            23 ST           FM      IND                     None\n",
       "171             2 AV            F      IND                     None\n",
       "172            14 ST       FLM123      IND                     None\n",
       "173  B'WAY-LAFAYETTE        BDFQ6      IND  (40.725297, -73.996204)\n",
       "174             7 AV           FG      IND                     None\n",
       "175  LEXINGTON AV/63            F      IND                     None\n",
       "176  ROOSEVELT ISLND            F      IND                     None\n",
       "177   TIMES SQ-42 ST  1237ACENQRS      IRT                     None\n",
       "178   59 ST COLUMBUS        1ABCD      IRT                     None\n",
       "179   CATHEDRAL PKWY            1      IRT                     None\n",
       "180  137 ST CITY COL            1      IRT                     None\n",
       "181           168 ST          1AC      IRT                     None\n",
       "182  GRD CNTRL-42 ST        4567S      IRT  (40.751431, -73.976041)\n",
       "183   68ST-HUNTER CO            6      IRT                     None\n",
       "184    HARLEM 148 ST            3      IRT    (40.82388, -73.93647)\n",
       "185            5 AVE        7BDFM      IRT                     None\n",
       "\n",
       "[186 rows x 4 columns]"
      ]
     },
     "execution_count": 121,
     "metadata": {},
     "output_type": "execute_result"
    }
   ],
   "source": [
    "station_name"
   ]
  },
  {
   "cell_type": "code",
   "execution_count": 124,
   "metadata": {
    "collapsed": true
   },
   "outputs": [],
   "source": [
    "station_name.to_csv(\"subway_clean.csv\", index=False)"
   ]
  },
  {
   "cell_type": "code",
   "execution_count": null,
   "metadata": {
    "collapsed": true
   },
   "outputs": [],
   "source": []
  }
 ],
 "metadata": {
  "kernelspec": {
   "display_name": "Python 2",
   "language": "python",
   "name": "python2"
  },
  "language_info": {
   "codemirror_mode": {
    "name": "ipython",
    "version": 2
   },
   "file_extension": ".py",
   "mimetype": "text/x-python",
   "name": "python",
   "nbconvert_exporter": "python",
   "pygments_lexer": "ipython2",
   "version": "2.7.13"
  }
 },
 "nbformat": 4,
 "nbformat_minor": 2
}
