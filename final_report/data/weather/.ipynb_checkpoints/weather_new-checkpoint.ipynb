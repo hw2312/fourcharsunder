{
 "cells": [
  {
   "cell_type": "markdown",
   "metadata": {},
   "source": [
    "### Weather Data Pre-processing"
   ]
  },
  {
   "cell_type": "code",
   "execution_count": 1,
   "metadata": {},
   "outputs": [],
   "source": [
    "import pandas as pd\n",
    "import datetime\n",
    "import numpy as np"
   ]
  },
  {
   "cell_type": "code",
   "execution_count": 2,
   "metadata": {},
   "outputs": [
    {
     "name": "stderr",
     "output_type": "stream",
     "text": [
      "/Users/dwoo/virtualenvs/dsi/lib/python3.6/site-packages/IPython/core/interactiveshell.py:2728: DtypeWarning: Columns (10,11,20,23,25,85,87) have mixed types. Specify dtype option on import or set low_memory=False.\n",
      "  interactivity=interactivity, compiler=compiler, result=result)\n"
     ]
    }
   ],
   "source": [
    "weather_df = pd.read_csv(\"weather_data_raw.csv\")"
   ]
  },
  {
   "cell_type": "code",
   "execution_count": 3,
   "metadata": {},
   "outputs": [
    {
     "data": {
      "text/plain": [
       "(13329, 90)"
      ]
     },
     "execution_count": 3,
     "metadata": {},
     "output_type": "execute_result"
    }
   ],
   "source": [
    "weather_df.shape"
   ]
  },
  {
   "cell_type": "code",
   "execution_count": 22,
   "metadata": {
    "collapsed": true
   },
   "outputs": [],
   "source": [
    "weather_columns = weather_df.columns\n",
    "\n",
    "weather_columns_need = []"
   ]
  },
  {
   "cell_type": "code",
   "execution_count": 57,
   "metadata": {},
   "outputs": [
    {
     "data": {
      "text/plain": [
       "Index(['STATION', 'STATION_NAME', 'ELEVATION', 'LATITUDE', 'LONGITUDE', 'DATE',\n",
       "       'REPORTTPYE', 'HOURLYSKYCONDITIONS', 'HOURLYVISIBILITY',\n",
       "       'HOURLYPRSENTWEATHERTYPE', 'HOURLYDRYBULBTEMPF', 'HOURLYDRYBULBTEMPC',\n",
       "       'HOURLYWETBULBTEMPF', 'HOURLYWETBULBTEMPC', 'HOURLYDewPointTempF',\n",
       "       'HOURLYDewPointTempC', 'HOURLYRelativeHumidity', 'HOURLYWindSpeed',\n",
       "       'HOURLYWindDirection', 'HOURLYWindGustSpeed', 'HOURLYStationPressure',\n",
       "       'HOURLYPressureTendency', 'HOURLYPressureChange',\n",
       "       'HOURLYSeaLevelPressure', 'HOURLYPrecip', 'HOURLYAltimeterSetting',\n",
       "       'DAILYMaximumDryBulbTemp', 'DAILYMinimumDryBulbTemp',\n",
       "       'DAILYAverageDryBulbTemp', 'DAILYDeptFromNormalAverageTemp',\n",
       "       'DAILYAverageRelativeHumidity', 'DAILYAverageDewPointTemp',\n",
       "       'DAILYAverageWetBulbTemp', 'DAILYHeatingDegreeDays',\n",
       "       'DAILYCoolingDegreeDays', 'DAILYSunrise', 'DAILYSunset', 'DAILYWeather',\n",
       "       'DAILYPrecip', 'DAILYSnowfall', 'DAILYSnowDepth',\n",
       "       'DAILYAverageStationPressure', 'DAILYAverageSeaLevelPressure',\n",
       "       'DAILYAverageWindSpeed', 'DAILYPeakWindSpeed', 'PeakWindDirection',\n",
       "       'DAILYSustainedWindSpeed', 'DAILYSustainedWindDirection',\n",
       "       'MonthlyMaximumTemp', 'MonthlyMinimumTemp', 'MonthlyMeanTemp',\n",
       "       'MonthlyAverageRH', 'MonthlyDewpointTemp', 'MonthlyWetBulbTemp',\n",
       "       'MonthlyAvgHeatingDegreeDays', 'MonthlyAvgCoolingDegreeDays',\n",
       "       'MonthlyStationPressure', 'MonthlySeaLevelPressure',\n",
       "       'MonthlyAverageWindSpeed', 'MonthlyTotalSnowfall',\n",
       "       'MonthlyDeptFromNormalMaximumTemp', 'MonthlyDeptFromNormalMinimumTemp',\n",
       "       'MonthlyDeptFromNormalAverageTemp', 'MonthlyDeptFromNormalPrecip',\n",
       "       'MonthlyTotalLiquidPrecip', 'MonthlyGreatestPrecip',\n",
       "       'MonthlyGreatestPrecipDate', 'MonthlyGreatestSnowfall',\n",
       "       'MonthlyGreatestSnowfallDate', 'MonthlyGreatestSnowDepth',\n",
       "       'MonthlyGreatestSnowDepthDate', 'MonthlyDaysWithGT90Temp',\n",
       "       'MonthlyDaysWithLT32Temp', 'MonthlyDaysWithGT32Temp',\n",
       "       'MonthlyDaysWithLT0Temp', 'MonthlyDaysWithGT001Precip',\n",
       "       'MonthlyDaysWithGT010Precip', 'MonthlyDaysWithGT1Snow',\n",
       "       'MonthlyMaxSeaLevelPressureValue', 'MonthlyMaxSeaLevelPressureDate',\n",
       "       'MonthlyMaxSeaLevelPressureTime', 'MonthlyMinSeaLevelPressureValue',\n",
       "       'MonthlyMinSeaLevelPressureDate', 'MonthlyMinSeaLevelPressureTime',\n",
       "       'MonthlyTotalHeatingDegreeDays', 'MonthlyTotalCoolingDegreeDays',\n",
       "       'MonthlyDeptFromNormalHeatingDD', 'MonthlyDeptFromNormalCoolingDD',\n",
       "       'MonthlyTotalSeasonToDateHeatingDD',\n",
       "       'MonthlyTotalSeasonToDateCoolingDD'],\n",
       "      dtype='object')"
      ]
     },
     "execution_count": 57,
     "metadata": {},
     "output_type": "execute_result"
    }
   ],
   "source": [
    "weather_df.columns"
   ]
  },
  {
   "cell_type": "code",
   "execution_count": 23,
   "metadata": {
    "collapsed": true
   },
   "outputs": [],
   "source": [
    "weather_columns_need = ['STATION', 'STATION_NAME', 'LATITUDE', 'LONGITUDE', 'DATE',\n",
    "'HOURLYDRYBULBTEMPF', 'HOURLYWindSpeed',\n",
    "'HOURLYPrecip']"
   ]
  },
  {
   "cell_type": "code",
   "execution_count": 24,
   "metadata": {
    "collapsed": true
   },
   "outputs": [],
   "source": [
    "weather_df_need = weather_df[weather_columns_need]"
   ]
  },
  {
   "cell_type": "code",
   "execution_count": 25,
   "metadata": {},
   "outputs": [
    {
     "data": {
      "text/html": [
       "<div>\n",
       "<style>\n",
       "    .dataframe thead tr:only-child th {\n",
       "        text-align: right;\n",
       "    }\n",
       "\n",
       "    .dataframe thead th {\n",
       "        text-align: left;\n",
       "    }\n",
       "\n",
       "    .dataframe tbody tr th {\n",
       "        vertical-align: top;\n",
       "    }\n",
       "</style>\n",
       "<table border=\"1\" class=\"dataframe\">\n",
       "  <thead>\n",
       "    <tr style=\"text-align: right;\">\n",
       "      <th></th>\n",
       "      <th>STATION</th>\n",
       "      <th>STATION_NAME</th>\n",
       "      <th>LATITUDE</th>\n",
       "      <th>LONGITUDE</th>\n",
       "      <th>DATE</th>\n",
       "      <th>HOURLYDRYBULBTEMPF</th>\n",
       "      <th>HOURLYWindSpeed</th>\n",
       "      <th>HOURLYPrecip</th>\n",
       "    </tr>\n",
       "  </thead>\n",
       "  <tbody>\n",
       "    <tr>\n",
       "      <th>0</th>\n",
       "      <td>WBAN:94728</td>\n",
       "      <td>NY CITY CENTRAL PARK NY US</td>\n",
       "      <td>40.77898</td>\n",
       "      <td>-73.96925</td>\n",
       "      <td>2014-12-01 00:51</td>\n",
       "      <td>54</td>\n",
       "      <td>5.0</td>\n",
       "      <td>0.00</td>\n",
       "    </tr>\n",
       "    <tr>\n",
       "      <th>1</th>\n",
       "      <td>WBAN:94728</td>\n",
       "      <td>NY CITY CENTRAL PARK NY US</td>\n",
       "      <td>40.77898</td>\n",
       "      <td>-73.96925</td>\n",
       "      <td>2014-12-01 01:51</td>\n",
       "      <td>55</td>\n",
       "      <td>10.0</td>\n",
       "      <td>0.00</td>\n",
       "    </tr>\n",
       "    <tr>\n",
       "      <th>2</th>\n",
       "      <td>WBAN:94728</td>\n",
       "      <td>NY CITY CENTRAL PARK NY US</td>\n",
       "      <td>40.77898</td>\n",
       "      <td>-73.96925</td>\n",
       "      <td>2014-12-01 02:51</td>\n",
       "      <td>56</td>\n",
       "      <td>10.0</td>\n",
       "      <td>0.00</td>\n",
       "    </tr>\n",
       "    <tr>\n",
       "      <th>3</th>\n",
       "      <td>WBAN:94728</td>\n",
       "      <td>NY CITY CENTRAL PARK NY US</td>\n",
       "      <td>40.77898</td>\n",
       "      <td>-73.96925</td>\n",
       "      <td>2014-12-01 03:51</td>\n",
       "      <td>55</td>\n",
       "      <td>8.0</td>\n",
       "      <td>0.00</td>\n",
       "    </tr>\n",
       "    <tr>\n",
       "      <th>4</th>\n",
       "      <td>WBAN:94728</td>\n",
       "      <td>NY CITY CENTRAL PARK NY US</td>\n",
       "      <td>40.77898</td>\n",
       "      <td>-73.96925</td>\n",
       "      <td>2014-12-01 04:51</td>\n",
       "      <td>54</td>\n",
       "      <td>6.0</td>\n",
       "      <td>0.00</td>\n",
       "    </tr>\n",
       "  </tbody>\n",
       "</table>\n",
       "</div>"
      ],
      "text/plain": [
       "      STATION                STATION_NAME  LATITUDE  LONGITUDE  \\\n",
       "0  WBAN:94728  NY CITY CENTRAL PARK NY US  40.77898  -73.96925   \n",
       "1  WBAN:94728  NY CITY CENTRAL PARK NY US  40.77898  -73.96925   \n",
       "2  WBAN:94728  NY CITY CENTRAL PARK NY US  40.77898  -73.96925   \n",
       "3  WBAN:94728  NY CITY CENTRAL PARK NY US  40.77898  -73.96925   \n",
       "4  WBAN:94728  NY CITY CENTRAL PARK NY US  40.77898  -73.96925   \n",
       "\n",
       "               DATE HOURLYDRYBULBTEMPF  HOURLYWindSpeed HOURLYPrecip  \n",
       "0  2014-12-01 00:51                 54              5.0         0.00  \n",
       "1  2014-12-01 01:51                 55             10.0         0.00  \n",
       "2  2014-12-01 02:51                 56             10.0         0.00  \n",
       "3  2014-12-01 03:51                 55              8.0         0.00  \n",
       "4  2014-12-01 04:51                 54              6.0         0.00  "
      ]
     },
     "execution_count": 25,
     "metadata": {},
     "output_type": "execute_result"
    }
   ],
   "source": [
    "weather_df_need.head()"
   ]
  },
  {
   "cell_type": "code",
   "execution_count": 26,
   "metadata": {
    "collapsed": true
   },
   "outputs": [],
   "source": [
    "weather_df_need_clean_date = weather_df_need.copy()"
   ]
  },
  {
   "cell_type": "code",
   "execution_count": 27,
   "metadata": {
    "collapsed": true,
    "scrolled": true
   },
   "outputs": [],
   "source": [
    "# Convert date from string format to date format\n",
    "weather_df_need_clean_date.DATE = pd.to_datetime(weather_df_need_clean_date.DATE, infer_datetime_format=True, errors='coerce')"
   ]
  },
  {
   "cell_type": "code",
   "execution_count": 28,
   "metadata": {
    "collapsed": true
   },
   "outputs": [],
   "source": [
    "mask_2015 = np.array(weather_df_need_clean_date.DATE <= datetime.date(2015, 12, 31)) & np.array(weather_df_need_clean_date.DATE >= datetime.date(2015, 1, 1))"
   ]
  },
  {
   "cell_type": "code",
   "execution_count": 29,
   "metadata": {
    "collapsed": true
   },
   "outputs": [],
   "source": [
    "weather_df_need_clean_date_2015 = weather_df_need_clean_date[mask_2015]"
   ]
  },
  {
   "cell_type": "code",
   "execution_count": 30,
   "metadata": {
    "collapsed": true
   },
   "outputs": [],
   "source": [
    "weather_df_need_clean_date_time_2015 = weather_df_need_clean_date_2015.copy()"
   ]
  },
  {
   "cell_type": "code",
   "execution_count": 31,
   "metadata": {
    "collapsed": true
   },
   "outputs": [],
   "source": [
    "# Convert time from string format to time format\n",
    "weather_df_need_clean_date_time_2015['TIME'] = pd.to_datetime(weather_df_need_clean_date_time_2015.DATE, infer_datetime_format=True, errors='coerce').dt.time"
   ]
  },
  {
   "cell_type": "code",
   "execution_count": 32,
   "metadata": {
    "collapsed": true
   },
   "outputs": [],
   "source": [
    "weather_df_need_clean_date_time_2015['DATE'] = pd.to_datetime(weather_df_need_clean_date_time_2015.DATE, infer_datetime_format=True, errors='coerce').dt.date"
   ]
  },
  {
   "cell_type": "code",
   "execution_count": 33,
   "metadata": {},
   "outputs": [
    {
     "data": {
      "text/html": [
       "<div>\n",
       "<style>\n",
       "    .dataframe thead tr:only-child th {\n",
       "        text-align: right;\n",
       "    }\n",
       "\n",
       "    .dataframe thead th {\n",
       "        text-align: left;\n",
       "    }\n",
       "\n",
       "    .dataframe tbody tr th {\n",
       "        vertical-align: top;\n",
       "    }\n",
       "</style>\n",
       "<table border=\"1\" class=\"dataframe\">\n",
       "  <thead>\n",
       "    <tr style=\"text-align: right;\">\n",
       "      <th></th>\n",
       "      <th>STATION</th>\n",
       "      <th>STATION_NAME</th>\n",
       "      <th>LATITUDE</th>\n",
       "      <th>LONGITUDE</th>\n",
       "      <th>DATE</th>\n",
       "      <th>HOURLYDRYBULBTEMPF</th>\n",
       "      <th>HOURLYWindSpeed</th>\n",
       "      <th>HOURLYPrecip</th>\n",
       "      <th>TIME</th>\n",
       "    </tr>\n",
       "  </thead>\n",
       "  <tbody>\n",
       "    <tr>\n",
       "      <th>1066</th>\n",
       "      <td>WBAN:94728</td>\n",
       "      <td>NY CITY CENTRAL PARK NY US</td>\n",
       "      <td>40.77898</td>\n",
       "      <td>-73.96925</td>\n",
       "      <td>2015-01-01</td>\n",
       "      <td>28</td>\n",
       "      <td>10.0</td>\n",
       "      <td>0.00</td>\n",
       "      <td>00:51:00</td>\n",
       "    </tr>\n",
       "    <tr>\n",
       "      <th>1067</th>\n",
       "      <td>WBAN:94728</td>\n",
       "      <td>NY CITY CENTRAL PARK NY US</td>\n",
       "      <td>40.77898</td>\n",
       "      <td>-73.96925</td>\n",
       "      <td>2015-01-01</td>\n",
       "      <td>28</td>\n",
       "      <td>9.0</td>\n",
       "      <td>0.00</td>\n",
       "      <td>01:51:00</td>\n",
       "    </tr>\n",
       "    <tr>\n",
       "      <th>1068</th>\n",
       "      <td>WBAN:94728</td>\n",
       "      <td>NY CITY CENTRAL PARK NY US</td>\n",
       "      <td>40.77898</td>\n",
       "      <td>-73.96925</td>\n",
       "      <td>2015-01-01</td>\n",
       "      <td>27</td>\n",
       "      <td>7.0</td>\n",
       "      <td>0.00</td>\n",
       "      <td>02:51:00</td>\n",
       "    </tr>\n",
       "    <tr>\n",
       "      <th>1069</th>\n",
       "      <td>WBAN:94728</td>\n",
       "      <td>NY CITY CENTRAL PARK NY US</td>\n",
       "      <td>40.77898</td>\n",
       "      <td>-73.96925</td>\n",
       "      <td>2015-01-01</td>\n",
       "      <td>27</td>\n",
       "      <td>3.0</td>\n",
       "      <td>0.00</td>\n",
       "      <td>03:51:00</td>\n",
       "    </tr>\n",
       "    <tr>\n",
       "      <th>1070</th>\n",
       "      <td>WBAN:94728</td>\n",
       "      <td>NY CITY CENTRAL PARK NY US</td>\n",
       "      <td>40.77898</td>\n",
       "      <td>-73.96925</td>\n",
       "      <td>2015-01-01</td>\n",
       "      <td>27</td>\n",
       "      <td>3.0</td>\n",
       "      <td>0.00</td>\n",
       "      <td>04:51:00</td>\n",
       "    </tr>\n",
       "  </tbody>\n",
       "</table>\n",
       "</div>"
      ],
      "text/plain": [
       "         STATION                STATION_NAME  LATITUDE  LONGITUDE        DATE  \\\n",
       "1066  WBAN:94728  NY CITY CENTRAL PARK NY US  40.77898  -73.96925  2015-01-01   \n",
       "1067  WBAN:94728  NY CITY CENTRAL PARK NY US  40.77898  -73.96925  2015-01-01   \n",
       "1068  WBAN:94728  NY CITY CENTRAL PARK NY US  40.77898  -73.96925  2015-01-01   \n",
       "1069  WBAN:94728  NY CITY CENTRAL PARK NY US  40.77898  -73.96925  2015-01-01   \n",
       "1070  WBAN:94728  NY CITY CENTRAL PARK NY US  40.77898  -73.96925  2015-01-01   \n",
       "\n",
       "     HOURLYDRYBULBTEMPF  HOURLYWindSpeed HOURLYPrecip      TIME  \n",
       "1066                 28             10.0         0.00  00:51:00  \n",
       "1067                 28              9.0         0.00  01:51:00  \n",
       "1068                 27              7.0         0.00  02:51:00  \n",
       "1069                 27              3.0         0.00  03:51:00  \n",
       "1070                 27              3.0         0.00  04:51:00  "
      ]
     },
     "execution_count": 33,
     "metadata": {},
     "output_type": "execute_result"
    }
   ],
   "source": [
    "weather_df_need_clean_date_time_2015.head()"
   ]
  },
  {
   "cell_type": "code",
   "execution_count": 34,
   "metadata": {
    "collapsed": true
   },
   "outputs": [],
   "source": [
    "weather_clean_df = weather_df_need_clean_date_time_2015.copy()"
   ]
  },
  {
   "cell_type": "code",
   "execution_count": 35,
   "metadata": {
    "collapsed": true
   },
   "outputs": [],
   "source": [
    "# Create boolean masks for records based on which 4 hourly window a record falls into\n",
    "mask_0_4 = np.array(weather_clean_df.TIME >= datetime.time(0,0,0)) & np.array(weather_clean_df.TIME <= datetime.time(3,59,59))\n",
    "mask_4_8 = np.array(weather_clean_df.TIME >= datetime.time(4,0,0)) & np.array(weather_clean_df.TIME <= datetime.time(7,59,59))\n",
    "mask_8_12 = np.array(weather_clean_df.TIME >= datetime.time(8,0,0)) & np.array(weather_clean_df.TIME <= datetime.time(11,59,59))\n",
    "mask_12_16 = np.array(weather_clean_df.TIME >= datetime.time(12,0,0)) & np.array(weather_clean_df.TIME <= datetime.time(15,59,59))\n",
    "mask_16_20 = np.array(weather_clean_df.TIME >= datetime.time(16,0,0)) & np.array(weather_clean_df.TIME <= datetime.time(19,59,59))\n",
    "mask_20_0 = np.array(weather_clean_df.TIME >= datetime.time(20,0,0)) & np.array(weather_clean_df.TIME <= datetime.time(23,59,59))"
   ]
  },
  {
   "cell_type": "code",
   "execution_count": 36,
   "metadata": {
    "collapsed": true
   },
   "outputs": [],
   "source": [
    "# Create two new columns to indicate which 4 hourly window a record falls into\n",
    "weather_clean_df['hour'] = np.zeros(weather_clean_df.shape[0])\n",
    "weather_clean_df['hour_interval'] = np.zeros(weather_clean_df.shape[0])"
   ]
  },
  {
   "cell_type": "code",
   "execution_count": 37,
   "metadata": {},
   "outputs": [
    {
     "name": "stderr",
     "output_type": "stream",
     "text": [
      "/Users/lee/anaconda/envs/Python3/lib/python3.6/site-packages/ipykernel_launcher.py:2: SettingWithCopyWarning: \n",
      "A value is trying to be set on a copy of a slice from a DataFrame\n",
      "\n",
      "See the caveats in the documentation: http://pandas.pydata.org/pandas-docs/stable/indexing.html#indexing-view-versus-copy\n",
      "  \n",
      "/Users/lee/anaconda/envs/Python3/lib/python3.6/site-packages/ipykernel_launcher.py:3: SettingWithCopyWarning: \n",
      "A value is trying to be set on a copy of a slice from a DataFrame\n",
      "\n",
      "See the caveats in the documentation: http://pandas.pydata.org/pandas-docs/stable/indexing.html#indexing-view-versus-copy\n",
      "  This is separate from the ipykernel package so we can avoid doing imports until\n",
      "/Users/lee/anaconda/envs/Python3/lib/python3.6/site-packages/ipykernel_launcher.py:4: SettingWithCopyWarning: \n",
      "A value is trying to be set on a copy of a slice from a DataFrame\n",
      "\n",
      "See the caveats in the documentation: http://pandas.pydata.org/pandas-docs/stable/indexing.html#indexing-view-versus-copy\n",
      "  after removing the cwd from sys.path.\n",
      "/Users/lee/anaconda/envs/Python3/lib/python3.6/site-packages/ipykernel_launcher.py:5: SettingWithCopyWarning: \n",
      "A value is trying to be set on a copy of a slice from a DataFrame\n",
      "\n",
      "See the caveats in the documentation: http://pandas.pydata.org/pandas-docs/stable/indexing.html#indexing-view-versus-copy\n",
      "  \"\"\"\n",
      "/Users/lee/anaconda/envs/Python3/lib/python3.6/site-packages/ipykernel_launcher.py:6: SettingWithCopyWarning: \n",
      "A value is trying to be set on a copy of a slice from a DataFrame\n",
      "\n",
      "See the caveats in the documentation: http://pandas.pydata.org/pandas-docs/stable/indexing.html#indexing-view-versus-copy\n",
      "  \n",
      "/Users/lee/anaconda/envs/Python3/lib/python3.6/site-packages/ipykernel_launcher.py:7: SettingWithCopyWarning: \n",
      "A value is trying to be set on a copy of a slice from a DataFrame\n",
      "\n",
      "See the caveats in the documentation: http://pandas.pydata.org/pandas-docs/stable/indexing.html#indexing-view-versus-copy\n",
      "  import sys\n",
      "/Users/lee/anaconda/envs/Python3/lib/python3.6/site-packages/ipykernel_launcher.py:8: SettingWithCopyWarning: \n",
      "A value is trying to be set on a copy of a slice from a DataFrame\n",
      "\n",
      "See the caveats in the documentation: http://pandas.pydata.org/pandas-docs/stable/indexing.html#indexing-view-versus-copy\n",
      "  \n",
      "/Users/lee/anaconda/envs/Python3/lib/python3.6/site-packages/ipykernel_launcher.py:9: SettingWithCopyWarning: \n",
      "A value is trying to be set on a copy of a slice from a DataFrame\n",
      "\n",
      "See the caveats in the documentation: http://pandas.pydata.org/pandas-docs/stable/indexing.html#indexing-view-versus-copy\n",
      "  if __name__ == '__main__':\n",
      "/Users/lee/anaconda/envs/Python3/lib/python3.6/site-packages/ipykernel_launcher.py:10: SettingWithCopyWarning: \n",
      "A value is trying to be set on a copy of a slice from a DataFrame\n",
      "\n",
      "See the caveats in the documentation: http://pandas.pydata.org/pandas-docs/stable/indexing.html#indexing-view-versus-copy\n",
      "  # Remove the CWD from sys.path while we load stuff.\n",
      "/Users/lee/anaconda/envs/Python3/lib/python3.6/site-packages/ipykernel_launcher.py:11: SettingWithCopyWarning: \n",
      "A value is trying to be set on a copy of a slice from a DataFrame\n",
      "\n",
      "See the caveats in the documentation: http://pandas.pydata.org/pandas-docs/stable/indexing.html#indexing-view-versus-copy\n",
      "  # This is added back by InteractiveShellApp.init_path()\n",
      "/Users/lee/anaconda/envs/Python3/lib/python3.6/site-packages/ipykernel_launcher.py:12: SettingWithCopyWarning: \n",
      "A value is trying to be set on a copy of a slice from a DataFrame\n",
      "\n",
      "See the caveats in the documentation: http://pandas.pydata.org/pandas-docs/stable/indexing.html#indexing-view-versus-copy\n",
      "  if sys.path[0] == '':\n",
      "/Users/lee/anaconda/envs/Python3/lib/python3.6/site-packages/ipykernel_launcher.py:13: SettingWithCopyWarning: \n",
      "A value is trying to be set on a copy of a slice from a DataFrame\n",
      "\n",
      "See the caveats in the documentation: http://pandas.pydata.org/pandas-docs/stable/indexing.html#indexing-view-versus-copy\n",
      "  del sys.path[0]\n"
     ]
    }
   ],
   "source": [
    "# Populate the two new columns using the boolean masks\n",
    "weather_clean_df['hour'][mask_0_4] = 4\n",
    "weather_clean_df['hour_interval'][mask_0_4] = '0000-0400'\n",
    "weather_clean_df['hour'][mask_4_8] = 8\n",
    "weather_clean_df['hour_interval'][mask_4_8] = '0400-0800'\n",
    "weather_clean_df['hour'][mask_8_12] = 12\n",
    "weather_clean_df['hour_interval'][mask_8_12] = '0800-1200'\n",
    "weather_clean_df['hour'][mask_12_16] = 16\n",
    "weather_clean_df['hour_interval'][mask_12_16] = '1200-1600'\n",
    "weather_clean_df['hour'][mask_16_20] = 20\n",
    "weather_clean_df['hour_interval'][mask_16_20] = '1600-2000'\n",
    "weather_clean_df['hour'][mask_20_0] = 0\n",
    "weather_clean_df['hour_interval'][mask_20_0] = '2000-0000'"
   ]
  },
  {
   "cell_type": "code",
   "execution_count": 38,
   "metadata": {},
   "outputs": [
    {
     "data": {
      "text/html": [
       "<div>\n",
       "<style>\n",
       "    .dataframe thead tr:only-child th {\n",
       "        text-align: right;\n",
       "    }\n",
       "\n",
       "    .dataframe thead th {\n",
       "        text-align: left;\n",
       "    }\n",
       "\n",
       "    .dataframe tbody tr th {\n",
       "        vertical-align: top;\n",
       "    }\n",
       "</style>\n",
       "<table border=\"1\" class=\"dataframe\">\n",
       "  <thead>\n",
       "    <tr style=\"text-align: right;\">\n",
       "      <th></th>\n",
       "      <th>STATION</th>\n",
       "      <th>STATION_NAME</th>\n",
       "      <th>LATITUDE</th>\n",
       "      <th>LONGITUDE</th>\n",
       "      <th>DATE</th>\n",
       "      <th>HOURLYDRYBULBTEMPF</th>\n",
       "      <th>HOURLYWindSpeed</th>\n",
       "      <th>HOURLYPrecip</th>\n",
       "      <th>TIME</th>\n",
       "      <th>hour</th>\n",
       "      <th>hour_interval</th>\n",
       "    </tr>\n",
       "  </thead>\n",
       "  <tbody>\n",
       "    <tr>\n",
       "      <th>1066</th>\n",
       "      <td>WBAN:94728</td>\n",
       "      <td>NY CITY CENTRAL PARK NY US</td>\n",
       "      <td>40.77898</td>\n",
       "      <td>-73.96925</td>\n",
       "      <td>2015-01-01</td>\n",
       "      <td>28</td>\n",
       "      <td>10.0</td>\n",
       "      <td>0.00</td>\n",
       "      <td>00:51:00</td>\n",
       "      <td>4.0</td>\n",
       "      <td>0000-0400</td>\n",
       "    </tr>\n",
       "    <tr>\n",
       "      <th>1067</th>\n",
       "      <td>WBAN:94728</td>\n",
       "      <td>NY CITY CENTRAL PARK NY US</td>\n",
       "      <td>40.77898</td>\n",
       "      <td>-73.96925</td>\n",
       "      <td>2015-01-01</td>\n",
       "      <td>28</td>\n",
       "      <td>9.0</td>\n",
       "      <td>0.00</td>\n",
       "      <td>01:51:00</td>\n",
       "      <td>4.0</td>\n",
       "      <td>0000-0400</td>\n",
       "    </tr>\n",
       "    <tr>\n",
       "      <th>1068</th>\n",
       "      <td>WBAN:94728</td>\n",
       "      <td>NY CITY CENTRAL PARK NY US</td>\n",
       "      <td>40.77898</td>\n",
       "      <td>-73.96925</td>\n",
       "      <td>2015-01-01</td>\n",
       "      <td>27</td>\n",
       "      <td>7.0</td>\n",
       "      <td>0.00</td>\n",
       "      <td>02:51:00</td>\n",
       "      <td>4.0</td>\n",
       "      <td>0000-0400</td>\n",
       "    </tr>\n",
       "    <tr>\n",
       "      <th>1069</th>\n",
       "      <td>WBAN:94728</td>\n",
       "      <td>NY CITY CENTRAL PARK NY US</td>\n",
       "      <td>40.77898</td>\n",
       "      <td>-73.96925</td>\n",
       "      <td>2015-01-01</td>\n",
       "      <td>27</td>\n",
       "      <td>3.0</td>\n",
       "      <td>0.00</td>\n",
       "      <td>03:51:00</td>\n",
       "      <td>4.0</td>\n",
       "      <td>0000-0400</td>\n",
       "    </tr>\n",
       "    <tr>\n",
       "      <th>1070</th>\n",
       "      <td>WBAN:94728</td>\n",
       "      <td>NY CITY CENTRAL PARK NY US</td>\n",
       "      <td>40.77898</td>\n",
       "      <td>-73.96925</td>\n",
       "      <td>2015-01-01</td>\n",
       "      <td>27</td>\n",
       "      <td>3.0</td>\n",
       "      <td>0.00</td>\n",
       "      <td>04:51:00</td>\n",
       "      <td>8.0</td>\n",
       "      <td>0400-0800</td>\n",
       "    </tr>\n",
       "  </tbody>\n",
       "</table>\n",
       "</div>"
      ],
      "text/plain": [
       "         STATION                STATION_NAME  LATITUDE  LONGITUDE        DATE  \\\n",
       "1066  WBAN:94728  NY CITY CENTRAL PARK NY US  40.77898  -73.96925  2015-01-01   \n",
       "1067  WBAN:94728  NY CITY CENTRAL PARK NY US  40.77898  -73.96925  2015-01-01   \n",
       "1068  WBAN:94728  NY CITY CENTRAL PARK NY US  40.77898  -73.96925  2015-01-01   \n",
       "1069  WBAN:94728  NY CITY CENTRAL PARK NY US  40.77898  -73.96925  2015-01-01   \n",
       "1070  WBAN:94728  NY CITY CENTRAL PARK NY US  40.77898  -73.96925  2015-01-01   \n",
       "\n",
       "     HOURLYDRYBULBTEMPF  HOURLYWindSpeed HOURLYPrecip      TIME  hour  \\\n",
       "1066                 28             10.0         0.00  00:51:00   4.0   \n",
       "1067                 28              9.0         0.00  01:51:00   4.0   \n",
       "1068                 27              7.0         0.00  02:51:00   4.0   \n",
       "1069                 27              3.0         0.00  03:51:00   4.0   \n",
       "1070                 27              3.0         0.00  04:51:00   8.0   \n",
       "\n",
       "     hour_interval  \n",
       "1066     0000-0400  \n",
       "1067     0000-0400  \n",
       "1068     0000-0400  \n",
       "1069     0000-0400  \n",
       "1070     0400-0800  "
      ]
     },
     "execution_count": 38,
     "metadata": {},
     "output_type": "execute_result"
    }
   ],
   "source": [
    "weather_clean_df.head()"
   ]
  },
  {
   "cell_type": "code",
   "execution_count": 39,
   "metadata": {
    "collapsed": true
   },
   "outputs": [],
   "source": [
    "weather_clean_df = weather_clean_df.replace('T', 0)"
   ]
  },
  {
   "cell_type": "code",
   "execution_count": 59,
   "metadata": {},
   "outputs": [
    {
     "data": {
      "text/plain": [
       "(13329, 90)"
      ]
     },
     "execution_count": 59,
     "metadata": {},
     "output_type": "execute_result"
    }
   ],
   "source": [
    "weather_df.shape"
   ]
  },
  {
   "cell_type": "code",
   "execution_count": 60,
   "metadata": {},
   "outputs": [
    {
     "data": {
      "text/plain": [
       "(11338, 11)"
      ]
     },
     "execution_count": 60,
     "metadata": {},
     "output_type": "execute_result"
    }
   ],
   "source": [
    "weather_clean_df.shape"
   ]
  },
  {
   "cell_type": "code",
   "execution_count": 61,
   "metadata": {},
   "outputs": [
    {
     "data": {
      "text/plain": [
       "1991"
      ]
     },
     "execution_count": 61,
     "metadata": {},
     "output_type": "execute_result"
    }
   ],
   "source": [
    "weather_df.shape[0] - weather_clean_df.shape[0]"
   ]
  },
  {
   "cell_type": "code",
   "execution_count": 40,
   "metadata": {
    "scrolled": true
   },
   "outputs": [
    {
     "data": {
      "text/plain": [
       "1761"
      ]
     },
     "execution_count": 40,
     "metadata": {},
     "output_type": "execute_result"
    }
   ],
   "source": [
    "sum(weather_clean_df['HOURLYPrecip'].isnull())"
   ]
  },
  {
   "cell_type": "code",
   "execution_count": 41,
   "metadata": {
    "collapsed": true
   },
   "outputs": [],
   "source": [
    "weather_clean_df.fillna(value=0, inplace=True)"
   ]
  },
  {
   "cell_type": "code",
   "execution_count": 42,
   "metadata": {},
   "outputs": [
    {
     "data": {
      "text/plain": [
       "0"
      ]
     },
     "execution_count": 42,
     "metadata": {},
     "output_type": "execute_result"
    }
   ],
   "source": [
    "sum(weather_clean_df['HOURLYPrecip'].isnull())"
   ]
  },
  {
   "cell_type": "code",
   "execution_count": 43,
   "metadata": {},
   "outputs": [
    {
     "data": {
      "text/plain": [
       "array(['0.00', 0, '0.01', '0.04', '0.02', '0.05', '0.07', '0.06', '0.10',\n",
       "       '0.12', '0.08', '0.11', '0.03', '0.15', '0.09', '0.17', '0.28',\n",
       "       '0.18', '0.24', '0.23', '0.16', '0.31', '0.20', '0.25', '0.29',\n",
       "       '0.14', '0.19', '0.01s', '0.13', '0.05s', '0.04s', '0.03s', '0.26',\n",
       "       '0.43', '0.40', '0.22', '0.46', '0.50', '0.97', '0.21', '0.06s',\n",
       "       '0.02s', '0.16s', '0.27', '0.30', '0.38', '0.39s', '0.37', '0.39',\n",
       "       '0.36', '0.35', '1.13', '1.28', '0.41', '0.34', '0.09s', '0.60s',\n",
       "       '0.74', '0.79', '0.11s', '0.59', '0.63', '0.32'], dtype=object)"
      ]
     },
     "execution_count": 43,
     "metadata": {},
     "output_type": "execute_result"
    }
   ],
   "source": [
    "weather_clean_df['HOURLYPrecip'].unique()"
   ]
  },
  {
   "cell_type": "code",
   "execution_count": 44,
   "metadata": {
    "collapsed": true
   },
   "outputs": [],
   "source": [
    "weather_clean_df['HOURLYPrecip'] = weather_clean_df['HOURLYPrecip'].replace('[s]', '', regex=True)"
   ]
  },
  {
   "cell_type": "code",
   "execution_count": 45,
   "metadata": {},
   "outputs": [
    {
     "data": {
      "text/plain": [
       "array(['0.00', 0, '0.01', '0.04', '0.02', '0.05', '0.07', '0.06', '0.10',\n",
       "       '0.12', '0.08', '0.11', '0.03', '0.15', '0.09', '0.17', '0.28',\n",
       "       '0.18', '0.24', '0.23', '0.16', '0.31', '0.20', '0.25', '0.29',\n",
       "       '0.14', '0.19', '0.13', '0.26', '0.43', '0.40', '0.22', '0.46',\n",
       "       '0.50', '0.97', '0.21', '0.27', '0.30', '0.38', '0.39', '0.37',\n",
       "       '0.36', '0.35', '1.13', '1.28', '0.41', '0.34', '0.60', '0.74',\n",
       "       '0.79', '0.59', '0.63', '0.32'], dtype=object)"
      ]
     },
     "execution_count": 45,
     "metadata": {},
     "output_type": "execute_result"
    }
   ],
   "source": [
    "weather_clean_df['HOURLYPrecip'].unique()"
   ]
  },
  {
   "cell_type": "code",
   "execution_count": 46,
   "metadata": {
    "collapsed": true
   },
   "outputs": [],
   "source": [
    "weather_clean_df['HOURLYPrecip'] = pd.to_numeric(weather_clean_df['HOURLYPrecip'])"
   ]
  },
  {
   "cell_type": "code",
   "execution_count": 47,
   "metadata": {
    "collapsed": true
   },
   "outputs": [],
   "source": [
    "weather_clean_df['HOURLYDRYBULBTEMPF'] = weather_clean_df['HOURLYDRYBULBTEMPF'].replace('[s]', '', regex=True)"
   ]
  },
  {
   "cell_type": "code",
   "execution_count": 48,
   "metadata": {
    "collapsed": true
   },
   "outputs": [],
   "source": [
    "weather_clean_df['HOURLYDRYBULBTEMPF'] = pd.to_numeric(weather_clean_df['HOURLYDRYBULBTEMPF'])"
   ]
  },
  {
   "cell_type": "code",
   "execution_count": 49,
   "metadata": {
    "collapsed": true
   },
   "outputs": [],
   "source": [
    "precip_df = weather_clean_df.groupby(['DATE', 'hour_interval'], as_index=False).sum()[['DATE', 'hour_interval', 'HOURLYPrecip']]"
   ]
  },
  {
   "cell_type": "code",
   "execution_count": 50,
   "metadata": {
    "collapsed": true
   },
   "outputs": [],
   "source": [
    "precip_df.columns = ['date', 'hour_interval', 'total_precip']"
   ]
  },
  {
   "cell_type": "code",
   "execution_count": 51,
   "metadata": {},
   "outputs": [
    {
     "data": {
      "text/html": [
       "<div>\n",
       "<style>\n",
       "    .dataframe thead tr:only-child th {\n",
       "        text-align: right;\n",
       "    }\n",
       "\n",
       "    .dataframe thead th {\n",
       "        text-align: left;\n",
       "    }\n",
       "\n",
       "    .dataframe tbody tr th {\n",
       "        vertical-align: top;\n",
       "    }\n",
       "</style>\n",
       "<table border=\"1\" class=\"dataframe\">\n",
       "  <thead>\n",
       "    <tr style=\"text-align: right;\">\n",
       "      <th></th>\n",
       "      <th>date</th>\n",
       "      <th>hour_interval</th>\n",
       "      <th>total_precip</th>\n",
       "    </tr>\n",
       "  </thead>\n",
       "  <tbody>\n",
       "    <tr>\n",
       "      <th>0</th>\n",
       "      <td>2015-01-01</td>\n",
       "      <td>0000-0400</td>\n",
       "      <td>0.0</td>\n",
       "    </tr>\n",
       "    <tr>\n",
       "      <th>1</th>\n",
       "      <td>2015-01-01</td>\n",
       "      <td>0400-0800</td>\n",
       "      <td>0.0</td>\n",
       "    </tr>\n",
       "    <tr>\n",
       "      <th>2</th>\n",
       "      <td>2015-01-01</td>\n",
       "      <td>0800-1200</td>\n",
       "      <td>0.0</td>\n",
       "    </tr>\n",
       "    <tr>\n",
       "      <th>3</th>\n",
       "      <td>2015-01-01</td>\n",
       "      <td>1200-1600</td>\n",
       "      <td>0.0</td>\n",
       "    </tr>\n",
       "    <tr>\n",
       "      <th>4</th>\n",
       "      <td>2015-01-01</td>\n",
       "      <td>1600-2000</td>\n",
       "      <td>0.0</td>\n",
       "    </tr>\n",
       "  </tbody>\n",
       "</table>\n",
       "</div>"
      ],
      "text/plain": [
       "         date hour_interval  total_precip\n",
       "0  2015-01-01     0000-0400           0.0\n",
       "1  2015-01-01     0400-0800           0.0\n",
       "2  2015-01-01     0800-1200           0.0\n",
       "3  2015-01-01     1200-1600           0.0\n",
       "4  2015-01-01     1600-2000           0.0"
      ]
     },
     "execution_count": 51,
     "metadata": {},
     "output_type": "execute_result"
    }
   ],
   "source": [
    "precip_df.head()"
   ]
  },
  {
   "cell_type": "code",
   "execution_count": 52,
   "metadata": {
    "collapsed": true
   },
   "outputs": [],
   "source": [
    "temp_df = weather_clean_df.groupby(['DATE', 'hour_interval'], as_index=False).mean()[['DATE', 'hour_interval', 'HOURLYDRYBULBTEMPF']]"
   ]
  },
  {
   "cell_type": "code",
   "execution_count": 53,
   "metadata": {
    "collapsed": true
   },
   "outputs": [],
   "source": [
    "temp_df.columns = ['date', 'hour_interval', 'mean_temp']"
   ]
  },
  {
   "cell_type": "code",
   "execution_count": 54,
   "metadata": {},
   "outputs": [
    {
     "data": {
      "text/html": [
       "<div>\n",
       "<style>\n",
       "    .dataframe thead tr:only-child th {\n",
       "        text-align: right;\n",
       "    }\n",
       "\n",
       "    .dataframe thead th {\n",
       "        text-align: left;\n",
       "    }\n",
       "\n",
       "    .dataframe tbody tr th {\n",
       "        vertical-align: top;\n",
       "    }\n",
       "</style>\n",
       "<table border=\"1\" class=\"dataframe\">\n",
       "  <thead>\n",
       "    <tr style=\"text-align: right;\">\n",
       "      <th></th>\n",
       "      <th>date</th>\n",
       "      <th>hour_interval</th>\n",
       "      <th>mean_temp</th>\n",
       "    </tr>\n",
       "  </thead>\n",
       "  <tbody>\n",
       "    <tr>\n",
       "      <th>0</th>\n",
       "      <td>2015-01-01</td>\n",
       "      <td>0000-0400</td>\n",
       "      <td>27.50</td>\n",
       "    </tr>\n",
       "    <tr>\n",
       "      <th>1</th>\n",
       "      <td>2015-01-01</td>\n",
       "      <td>0400-0800</td>\n",
       "      <td>27.00</td>\n",
       "    </tr>\n",
       "    <tr>\n",
       "      <th>2</th>\n",
       "      <td>2015-01-01</td>\n",
       "      <td>0800-1200</td>\n",
       "      <td>30.50</td>\n",
       "    </tr>\n",
       "    <tr>\n",
       "      <th>3</th>\n",
       "      <td>2015-01-01</td>\n",
       "      <td>1200-1600</td>\n",
       "      <td>37.25</td>\n",
       "    </tr>\n",
       "    <tr>\n",
       "      <th>4</th>\n",
       "      <td>2015-01-01</td>\n",
       "      <td>1600-2000</td>\n",
       "      <td>38.75</td>\n",
       "    </tr>\n",
       "  </tbody>\n",
       "</table>\n",
       "</div>"
      ],
      "text/plain": [
       "         date hour_interval  mean_temp\n",
       "0  2015-01-01     0000-0400      27.50\n",
       "1  2015-01-01     0400-0800      27.00\n",
       "2  2015-01-01     0800-1200      30.50\n",
       "3  2015-01-01     1200-1600      37.25\n",
       "4  2015-01-01     1600-2000      38.75"
      ]
     },
     "execution_count": 54,
     "metadata": {},
     "output_type": "execute_result"
    }
   ],
   "source": [
    "temp_df.head()"
   ]
  },
  {
   "cell_type": "code",
   "execution_count": 58,
   "metadata": {},
   "outputs": [
    {
     "data": {
      "text/html": [
       "<div>\n",
       "<style>\n",
       "    .dataframe thead tr:only-child th {\n",
       "        text-align: right;\n",
       "    }\n",
       "\n",
       "    .dataframe thead th {\n",
       "        text-align: left;\n",
       "    }\n",
       "\n",
       "    .dataframe tbody tr th {\n",
       "        vertical-align: top;\n",
       "    }\n",
       "</style>\n",
       "<table border=\"1\" class=\"dataframe\">\n",
       "  <thead>\n",
       "    <tr style=\"text-align: right;\">\n",
       "      <th></th>\n",
       "      <th>date</th>\n",
       "      <th>hour_interval</th>\n",
       "      <th>total_precip</th>\n",
       "    </tr>\n",
       "  </thead>\n",
       "  <tbody>\n",
       "    <tr>\n",
       "      <th>0</th>\n",
       "      <td>2015-01-01</td>\n",
       "      <td>0000-0400</td>\n",
       "      <td>0.0</td>\n",
       "    </tr>\n",
       "    <tr>\n",
       "      <th>1</th>\n",
       "      <td>2015-01-01</td>\n",
       "      <td>0400-0800</td>\n",
       "      <td>0.0</td>\n",
       "    </tr>\n",
       "    <tr>\n",
       "      <th>2</th>\n",
       "      <td>2015-01-01</td>\n",
       "      <td>0800-1200</td>\n",
       "      <td>0.0</td>\n",
       "    </tr>\n",
       "    <tr>\n",
       "      <th>3</th>\n",
       "      <td>2015-01-01</td>\n",
       "      <td>1200-1600</td>\n",
       "      <td>0.0</td>\n",
       "    </tr>\n",
       "    <tr>\n",
       "      <th>4</th>\n",
       "      <td>2015-01-01</td>\n",
       "      <td>1600-2000</td>\n",
       "      <td>0.0</td>\n",
       "    </tr>\n",
       "  </tbody>\n",
       "</table>\n",
       "</div>"
      ],
      "text/plain": [
       "         date hour_interval  total_precip\n",
       "0  2015-01-01     0000-0400           0.0\n",
       "1  2015-01-01     0400-0800           0.0\n",
       "2  2015-01-01     0800-1200           0.0\n",
       "3  2015-01-01     1200-1600           0.0\n",
       "4  2015-01-01     1600-2000           0.0"
      ]
     },
     "execution_count": 58,
     "metadata": {},
     "output_type": "execute_result"
    }
   ],
   "source": [
    "precip_df.head()"
   ]
  },
  {
   "cell_type": "code",
   "execution_count": 55,
   "metadata": {
    "collapsed": true
   },
   "outputs": [],
   "source": [
    "# precip_df.to_csv(\"precipitation.csv\", index=False)\n",
    "# temp_df.to_csv(\"temperature.csv\", index=False)"
   ]
  },
  {
   "cell_type": "code",
   "execution_count": null,
   "metadata": {
    "collapsed": true
   },
   "outputs": [],
   "source": []
  }
 ],
 "metadata": {
  "kernelspec": {
   "display_name": "Python 3",
   "language": "python",
   "name": "python3"
  },
  "language_info": {
   "codemirror_mode": {
    "name": "ipython",
    "version": 3
   },
   "file_extension": ".py",
   "mimetype": "text/x-python",
   "name": "python",
   "nbconvert_exporter": "python",
   "pygments_lexer": "ipython3",
   "version": "3.6.4"
  }
 },
 "nbformat": 4,
 "nbformat_minor": 2
}
